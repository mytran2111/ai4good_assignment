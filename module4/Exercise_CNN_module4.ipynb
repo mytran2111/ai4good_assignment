{
  "nbformat": 4,
  "nbformat_minor": 0,
  "metadata": {
    "colab": {
      "name": "Exercise_CNN-module4.ipynb",
      "provenance": [],
      "collapsed_sections": []
    },
    "kernelspec": {
      "name": "python3",
      "display_name": "Python 3"
    },
    "language_info": {
      "name": "python"
    },
    "widgets": {
      "application/vnd.jupyter.widget-state+json": {
        "c1342943148549e8bfdb414bd69bfc99": {
          "model_module": "@jupyter-widgets/controls",
          "model_name": "HBoxModel",
          "state": {
            "_view_name": "HBoxView",
            "_dom_classes": [],
            "_model_name": "HBoxModel",
            "_view_module": "@jupyter-widgets/controls",
            "_model_module_version": "1.5.0",
            "_view_count": null,
            "_view_module_version": "1.5.0",
            "box_style": "",
            "layout": "IPY_MODEL_0c6c03e81ffc41d0b8f311831bb85a88",
            "_model_module": "@jupyter-widgets/controls",
            "children": [
              "IPY_MODEL_18b5c6b29ad344af9aa459080317a391",
              "IPY_MODEL_838d1da5188e44f7b7f11913b9719f0f"
            ]
          }
        },
        "0c6c03e81ffc41d0b8f311831bb85a88": {
          "model_module": "@jupyter-widgets/base",
          "model_name": "LayoutModel",
          "state": {
            "_view_name": "LayoutView",
            "grid_template_rows": null,
            "right": null,
            "justify_content": null,
            "_view_module": "@jupyter-widgets/base",
            "overflow": null,
            "_model_module_version": "1.2.0",
            "_view_count": null,
            "flex_flow": null,
            "width": null,
            "min_width": null,
            "border": null,
            "align_items": null,
            "bottom": null,
            "_model_module": "@jupyter-widgets/base",
            "top": null,
            "grid_column": null,
            "overflow_y": null,
            "overflow_x": null,
            "grid_auto_flow": null,
            "grid_area": null,
            "grid_template_columns": null,
            "flex": null,
            "_model_name": "LayoutModel",
            "justify_items": null,
            "grid_row": null,
            "max_height": null,
            "align_content": null,
            "visibility": null,
            "align_self": null,
            "height": null,
            "min_height": null,
            "padding": null,
            "grid_auto_rows": null,
            "grid_gap": null,
            "max_width": null,
            "order": null,
            "_view_module_version": "1.2.0",
            "grid_template_areas": null,
            "object_position": null,
            "object_fit": null,
            "grid_auto_columns": null,
            "margin": null,
            "display": null,
            "left": null
          }
        },
        "18b5c6b29ad344af9aa459080317a391": {
          "model_module": "@jupyter-widgets/controls",
          "model_name": "FloatProgressModel",
          "state": {
            "_view_name": "ProgressView",
            "style": "IPY_MODEL_dc1fa1b5e0f441a9930a459b1ce2fb7f",
            "_dom_classes": [],
            "description": "",
            "_model_name": "FloatProgressModel",
            "bar_style": "success",
            "max": 170498071,
            "_view_module": "@jupyter-widgets/controls",
            "_model_module_version": "1.5.0",
            "value": 170498071,
            "_view_count": null,
            "_view_module_version": "1.5.0",
            "orientation": "horizontal",
            "min": 0,
            "description_tooltip": null,
            "_model_module": "@jupyter-widgets/controls",
            "layout": "IPY_MODEL_7cfcc0ade78b4c7ab3dee3e97a039998"
          }
        },
        "838d1da5188e44f7b7f11913b9719f0f": {
          "model_module": "@jupyter-widgets/controls",
          "model_name": "HTMLModel",
          "state": {
            "_view_name": "HTMLView",
            "style": "IPY_MODEL_adbe32733ff24568a9bd17e4b7575542",
            "_dom_classes": [],
            "description": "",
            "_model_name": "HTMLModel",
            "placeholder": "​",
            "_view_module": "@jupyter-widgets/controls",
            "_model_module_version": "1.5.0",
            "value": " 170499072/? [01:36&lt;00:00, 1774567.52it/s]",
            "_view_count": null,
            "_view_module_version": "1.5.0",
            "description_tooltip": null,
            "_model_module": "@jupyter-widgets/controls",
            "layout": "IPY_MODEL_c3d1b44094814fe6bd623216d6dcce70"
          }
        },
        "dc1fa1b5e0f441a9930a459b1ce2fb7f": {
          "model_module": "@jupyter-widgets/controls",
          "model_name": "ProgressStyleModel",
          "state": {
            "_view_name": "StyleView",
            "_model_name": "ProgressStyleModel",
            "description_width": "initial",
            "_view_module": "@jupyter-widgets/base",
            "_model_module_version": "1.5.0",
            "_view_count": null,
            "_view_module_version": "1.2.0",
            "bar_color": null,
            "_model_module": "@jupyter-widgets/controls"
          }
        },
        "7cfcc0ade78b4c7ab3dee3e97a039998": {
          "model_module": "@jupyter-widgets/base",
          "model_name": "LayoutModel",
          "state": {
            "_view_name": "LayoutView",
            "grid_template_rows": null,
            "right": null,
            "justify_content": null,
            "_view_module": "@jupyter-widgets/base",
            "overflow": null,
            "_model_module_version": "1.2.0",
            "_view_count": null,
            "flex_flow": null,
            "width": null,
            "min_width": null,
            "border": null,
            "align_items": null,
            "bottom": null,
            "_model_module": "@jupyter-widgets/base",
            "top": null,
            "grid_column": null,
            "overflow_y": null,
            "overflow_x": null,
            "grid_auto_flow": null,
            "grid_area": null,
            "grid_template_columns": null,
            "flex": null,
            "_model_name": "LayoutModel",
            "justify_items": null,
            "grid_row": null,
            "max_height": null,
            "align_content": null,
            "visibility": null,
            "align_self": null,
            "height": null,
            "min_height": null,
            "padding": null,
            "grid_auto_rows": null,
            "grid_gap": null,
            "max_width": null,
            "order": null,
            "_view_module_version": "1.2.0",
            "grid_template_areas": null,
            "object_position": null,
            "object_fit": null,
            "grid_auto_columns": null,
            "margin": null,
            "display": null,
            "left": null
          }
        },
        "adbe32733ff24568a9bd17e4b7575542": {
          "model_module": "@jupyter-widgets/controls",
          "model_name": "DescriptionStyleModel",
          "state": {
            "_view_name": "StyleView",
            "_model_name": "DescriptionStyleModel",
            "description_width": "",
            "_view_module": "@jupyter-widgets/base",
            "_model_module_version": "1.5.0",
            "_view_count": null,
            "_view_module_version": "1.2.0",
            "_model_module": "@jupyter-widgets/controls"
          }
        },
        "c3d1b44094814fe6bd623216d6dcce70": {
          "model_module": "@jupyter-widgets/base",
          "model_name": "LayoutModel",
          "state": {
            "_view_name": "LayoutView",
            "grid_template_rows": null,
            "right": null,
            "justify_content": null,
            "_view_module": "@jupyter-widgets/base",
            "overflow": null,
            "_model_module_version": "1.2.0",
            "_view_count": null,
            "flex_flow": null,
            "width": null,
            "min_width": null,
            "border": null,
            "align_items": null,
            "bottom": null,
            "_model_module": "@jupyter-widgets/base",
            "top": null,
            "grid_column": null,
            "overflow_y": null,
            "overflow_x": null,
            "grid_auto_flow": null,
            "grid_area": null,
            "grid_template_columns": null,
            "flex": null,
            "_model_name": "LayoutModel",
            "justify_items": null,
            "grid_row": null,
            "max_height": null,
            "align_content": null,
            "visibility": null,
            "align_self": null,
            "height": null,
            "min_height": null,
            "padding": null,
            "grid_auto_rows": null,
            "grid_gap": null,
            "max_width": null,
            "order": null,
            "_view_module_version": "1.2.0",
            "grid_template_areas": null,
            "object_position": null,
            "object_fit": null,
            "grid_auto_columns": null,
            "margin": null,
            "display": null,
            "left": null
          }
        }
      }
    }
  },
  "cells": [
    {
      "cell_type": "code",
      "metadata": {
        "id": "8g3zbpnx8gsW"
      },
      "source": [
        "# Using Pytorcj\n",
        "import torch\n",
        "import torch.nn as nn\n",
        "import torch.nn.functional as F\n",
        "import torch.optim as optim\n",
        "from torchvision import datasets, transforms\n",
        "from matplotlib import pyplot as plt\n",
        "\n",
        "device = torch.device('cpu') # cuda"
      ],
      "execution_count": null,
      "outputs": []
    },
    {
      "cell_type": "markdown",
      "metadata": {
        "id": "LP_5yW5PGR5j"
      },
      "source": [
        "**TASK 1 - CLASSIFICATION WITH CIFAR 10** \n"
      ]
    },
    {
      "cell_type": "code",
      "metadata": {
        "colab": {
          "base_uri": "https://localhost:8080/",
          "height": 117,
          "referenced_widgets": [
            "c1342943148549e8bfdb414bd69bfc99",
            "0c6c03e81ffc41d0b8f311831bb85a88",
            "18b5c6b29ad344af9aa459080317a391",
            "838d1da5188e44f7b7f11913b9719f0f",
            "dc1fa1b5e0f441a9930a459b1ce2fb7f",
            "7cfcc0ade78b4c7ab3dee3e97a039998",
            "adbe32733ff24568a9bd17e4b7575542",
            "c3d1b44094814fe6bd623216d6dcce70"
          ]
        },
        "id": "A0orJgV9GZc7",
        "outputId": "45ca2442-a40e-4465-dc1f-8bd03d9b0005"
      },
      "source": [
        "# Note: Pytorch class torchvision.datasets.CIFAR10 will download the dataset during initial call.\n",
        "\n",
        "kwargs = {'num_workers': 1, 'pin_memory': True} if device==torch.device('cuda') else {}\n",
        "train_loader = torch.utils.data.DataLoader(datasets.CIFAR10('../data', train=True, download=True,\n",
        "                                                                    transform=transforms.Compose([transforms.ToTensor(),\n",
        "                                                                                      transforms.Normalize((0.4914, 0.4822, 0.4465), (0.2023, 0.1994, 0.2010))       # Calculate mean and standard deviation of dataset\n",
        "                                                                                      ])), batch_size=512, shuffle=True, **kwargs)\n",
        "\n",
        "len(train_loader)"
      ],
      "execution_count": null,
      "outputs": [
        {
          "output_type": "stream",
          "text": [
            "Downloading https://www.cs.toronto.edu/~kriz/cifar-10-python.tar.gz to ../data/cifar-10-python.tar.gz\n"
          ],
          "name": "stdout"
        },
        {
          "output_type": "display_data",
          "data": {
            "application/vnd.jupyter.widget-view+json": {
              "model_id": "c1342943148549e8bfdb414bd69bfc99",
              "version_minor": 0,
              "version_major": 2
            },
            "text/plain": [
              "HBox(children=(FloatProgress(value=0.0, max=170498071.0), HTML(value='')))"
            ]
          },
          "metadata": {
            "tags": []
          }
        },
        {
          "output_type": "stream",
          "text": [
            "\n",
            "Extracting ../data/cifar-10-python.tar.gz to ../data\n"
          ],
          "name": "stdout"
        },
        {
          "output_type": "execute_result",
          "data": {
            "text/plain": [
              "98"
            ]
          },
          "metadata": {
            "tags": []
          },
          "execution_count": 2
        }
      ]
    },
    {
      "cell_type": "code",
      "metadata": {
        "colab": {
          "base_uri": "https://localhost:8080/"
        },
        "id": "maCqGd0qHtPy",
        "outputId": "d2b91db2-daac-40be-871e-040c8348894e"
      },
      "source": [
        "for batch_idx, (data, target) in enumerate(train_loader):\n",
        "    print(f\"batch_idx: {batch_idx}\")\n",
        "    print(f\"data shape: {data.shape}\")\n",
        "    print(f\"target shape: {target.shape}\")"
      ],
      "execution_count": null,
      "outputs": [
        {
          "output_type": "stream",
          "text": [
            "batch_idx: 0\n",
            "data shape: torch.Size([512, 3, 32, 32])\n",
            "target shape: torch.Size([512])\n",
            "batch_idx: 1\n",
            "data shape: torch.Size([512, 3, 32, 32])\n",
            "target shape: torch.Size([512])\n",
            "batch_idx: 2\n",
            "data shape: torch.Size([512, 3, 32, 32])\n",
            "target shape: torch.Size([512])\n",
            "batch_idx: 3\n",
            "data shape: torch.Size([512, 3, 32, 32])\n",
            "target shape: torch.Size([512])\n",
            "batch_idx: 4\n",
            "data shape: torch.Size([512, 3, 32, 32])\n",
            "target shape: torch.Size([512])\n",
            "batch_idx: 5\n",
            "data shape: torch.Size([512, 3, 32, 32])\n",
            "target shape: torch.Size([512])\n",
            "batch_idx: 6\n",
            "data shape: torch.Size([512, 3, 32, 32])\n",
            "target shape: torch.Size([512])\n",
            "batch_idx: 7\n",
            "data shape: torch.Size([512, 3, 32, 32])\n",
            "target shape: torch.Size([512])\n",
            "batch_idx: 8\n",
            "data shape: torch.Size([512, 3, 32, 32])\n",
            "target shape: torch.Size([512])\n",
            "batch_idx: 9\n",
            "data shape: torch.Size([512, 3, 32, 32])\n",
            "target shape: torch.Size([512])\n",
            "batch_idx: 10\n",
            "data shape: torch.Size([512, 3, 32, 32])\n",
            "target shape: torch.Size([512])\n",
            "batch_idx: 11\n",
            "data shape: torch.Size([512, 3, 32, 32])\n",
            "target shape: torch.Size([512])\n",
            "batch_idx: 12\n",
            "data shape: torch.Size([512, 3, 32, 32])\n",
            "target shape: torch.Size([512])\n",
            "batch_idx: 13\n",
            "data shape: torch.Size([512, 3, 32, 32])\n",
            "target shape: torch.Size([512])\n",
            "batch_idx: 14\n",
            "data shape: torch.Size([512, 3, 32, 32])\n",
            "target shape: torch.Size([512])\n",
            "batch_idx: 15\n",
            "data shape: torch.Size([512, 3, 32, 32])\n",
            "target shape: torch.Size([512])\n",
            "batch_idx: 16\n",
            "data shape: torch.Size([512, 3, 32, 32])\n",
            "target shape: torch.Size([512])\n",
            "batch_idx: 17\n",
            "data shape: torch.Size([512, 3, 32, 32])\n",
            "target shape: torch.Size([512])\n",
            "batch_idx: 18\n",
            "data shape: torch.Size([512, 3, 32, 32])\n",
            "target shape: torch.Size([512])\n",
            "batch_idx: 19\n",
            "data shape: torch.Size([512, 3, 32, 32])\n",
            "target shape: torch.Size([512])\n",
            "batch_idx: 20\n",
            "data shape: torch.Size([512, 3, 32, 32])\n",
            "target shape: torch.Size([512])\n",
            "batch_idx: 21\n",
            "data shape: torch.Size([512, 3, 32, 32])\n",
            "target shape: torch.Size([512])\n",
            "batch_idx: 22\n",
            "data shape: torch.Size([512, 3, 32, 32])\n",
            "target shape: torch.Size([512])\n",
            "batch_idx: 23\n",
            "data shape: torch.Size([512, 3, 32, 32])\n",
            "target shape: torch.Size([512])\n",
            "batch_idx: 24\n",
            "data shape: torch.Size([512, 3, 32, 32])\n",
            "target shape: torch.Size([512])\n",
            "batch_idx: 25\n",
            "data shape: torch.Size([512, 3, 32, 32])\n",
            "target shape: torch.Size([512])\n",
            "batch_idx: 26\n",
            "data shape: torch.Size([512, 3, 32, 32])\n",
            "target shape: torch.Size([512])\n",
            "batch_idx: 27\n",
            "data shape: torch.Size([512, 3, 32, 32])\n",
            "target shape: torch.Size([512])\n",
            "batch_idx: 28\n",
            "data shape: torch.Size([512, 3, 32, 32])\n",
            "target shape: torch.Size([512])\n",
            "batch_idx: 29\n",
            "data shape: torch.Size([512, 3, 32, 32])\n",
            "target shape: torch.Size([512])\n",
            "batch_idx: 30\n",
            "data shape: torch.Size([512, 3, 32, 32])\n",
            "target shape: torch.Size([512])\n",
            "batch_idx: 31\n",
            "data shape: torch.Size([512, 3, 32, 32])\n",
            "target shape: torch.Size([512])\n",
            "batch_idx: 32\n",
            "data shape: torch.Size([512, 3, 32, 32])\n",
            "target shape: torch.Size([512])\n",
            "batch_idx: 33\n",
            "data shape: torch.Size([512, 3, 32, 32])\n",
            "target shape: torch.Size([512])\n",
            "batch_idx: 34\n",
            "data shape: torch.Size([512, 3, 32, 32])\n",
            "target shape: torch.Size([512])\n",
            "batch_idx: 35\n",
            "data shape: torch.Size([512, 3, 32, 32])\n",
            "target shape: torch.Size([512])\n",
            "batch_idx: 36\n",
            "data shape: torch.Size([512, 3, 32, 32])\n",
            "target shape: torch.Size([512])\n",
            "batch_idx: 37\n",
            "data shape: torch.Size([512, 3, 32, 32])\n",
            "target shape: torch.Size([512])\n",
            "batch_idx: 38\n",
            "data shape: torch.Size([512, 3, 32, 32])\n",
            "target shape: torch.Size([512])\n",
            "batch_idx: 39\n",
            "data shape: torch.Size([512, 3, 32, 32])\n",
            "target shape: torch.Size([512])\n",
            "batch_idx: 40\n",
            "data shape: torch.Size([512, 3, 32, 32])\n",
            "target shape: torch.Size([512])\n",
            "batch_idx: 41\n",
            "data shape: torch.Size([512, 3, 32, 32])\n",
            "target shape: torch.Size([512])\n",
            "batch_idx: 42\n",
            "data shape: torch.Size([512, 3, 32, 32])\n",
            "target shape: torch.Size([512])\n",
            "batch_idx: 43\n",
            "data shape: torch.Size([512, 3, 32, 32])\n",
            "target shape: torch.Size([512])\n",
            "batch_idx: 44\n",
            "data shape: torch.Size([512, 3, 32, 32])\n",
            "target shape: torch.Size([512])\n",
            "batch_idx: 45\n",
            "data shape: torch.Size([512, 3, 32, 32])\n",
            "target shape: torch.Size([512])\n",
            "batch_idx: 46\n",
            "data shape: torch.Size([512, 3, 32, 32])\n",
            "target shape: torch.Size([512])\n",
            "batch_idx: 47\n",
            "data shape: torch.Size([512, 3, 32, 32])\n",
            "target shape: torch.Size([512])\n",
            "batch_idx: 48\n",
            "data shape: torch.Size([512, 3, 32, 32])\n",
            "target shape: torch.Size([512])\n",
            "batch_idx: 49\n",
            "data shape: torch.Size([512, 3, 32, 32])\n",
            "target shape: torch.Size([512])\n",
            "batch_idx: 50\n",
            "data shape: torch.Size([512, 3, 32, 32])\n",
            "target shape: torch.Size([512])\n",
            "batch_idx: 51\n",
            "data shape: torch.Size([512, 3, 32, 32])\n",
            "target shape: torch.Size([512])\n",
            "batch_idx: 52\n",
            "data shape: torch.Size([512, 3, 32, 32])\n",
            "target shape: torch.Size([512])\n",
            "batch_idx: 53\n",
            "data shape: torch.Size([512, 3, 32, 32])\n",
            "target shape: torch.Size([512])\n",
            "batch_idx: 54\n",
            "data shape: torch.Size([512, 3, 32, 32])\n",
            "target shape: torch.Size([512])\n",
            "batch_idx: 55\n",
            "data shape: torch.Size([512, 3, 32, 32])\n",
            "target shape: torch.Size([512])\n",
            "batch_idx: 56\n",
            "data shape: torch.Size([512, 3, 32, 32])\n",
            "target shape: torch.Size([512])\n",
            "batch_idx: 57\n",
            "data shape: torch.Size([512, 3, 32, 32])\n",
            "target shape: torch.Size([512])\n",
            "batch_idx: 58\n",
            "data shape: torch.Size([512, 3, 32, 32])\n",
            "target shape: torch.Size([512])\n",
            "batch_idx: 59\n",
            "data shape: torch.Size([512, 3, 32, 32])\n",
            "target shape: torch.Size([512])\n",
            "batch_idx: 60\n",
            "data shape: torch.Size([512, 3, 32, 32])\n",
            "target shape: torch.Size([512])\n",
            "batch_idx: 61\n",
            "data shape: torch.Size([512, 3, 32, 32])\n",
            "target shape: torch.Size([512])\n",
            "batch_idx: 62\n",
            "data shape: torch.Size([512, 3, 32, 32])\n",
            "target shape: torch.Size([512])\n",
            "batch_idx: 63\n",
            "data shape: torch.Size([512, 3, 32, 32])\n",
            "target shape: torch.Size([512])\n",
            "batch_idx: 64\n",
            "data shape: torch.Size([512, 3, 32, 32])\n",
            "target shape: torch.Size([512])\n",
            "batch_idx: 65\n",
            "data shape: torch.Size([512, 3, 32, 32])\n",
            "target shape: torch.Size([512])\n",
            "batch_idx: 66\n",
            "data shape: torch.Size([512, 3, 32, 32])\n",
            "target shape: torch.Size([512])\n",
            "batch_idx: 67\n",
            "data shape: torch.Size([512, 3, 32, 32])\n",
            "target shape: torch.Size([512])\n",
            "batch_idx: 68\n",
            "data shape: torch.Size([512, 3, 32, 32])\n",
            "target shape: torch.Size([512])\n",
            "batch_idx: 69\n",
            "data shape: torch.Size([512, 3, 32, 32])\n",
            "target shape: torch.Size([512])\n",
            "batch_idx: 70\n",
            "data shape: torch.Size([512, 3, 32, 32])\n",
            "target shape: torch.Size([512])\n",
            "batch_idx: 71\n",
            "data shape: torch.Size([512, 3, 32, 32])\n",
            "target shape: torch.Size([512])\n",
            "batch_idx: 72\n",
            "data shape: torch.Size([512, 3, 32, 32])\n",
            "target shape: torch.Size([512])\n",
            "batch_idx: 73\n",
            "data shape: torch.Size([512, 3, 32, 32])\n",
            "target shape: torch.Size([512])\n",
            "batch_idx: 74\n",
            "data shape: torch.Size([512, 3, 32, 32])\n",
            "target shape: torch.Size([512])\n",
            "batch_idx: 75\n",
            "data shape: torch.Size([512, 3, 32, 32])\n",
            "target shape: torch.Size([512])\n",
            "batch_idx: 76\n",
            "data shape: torch.Size([512, 3, 32, 32])\n",
            "target shape: torch.Size([512])\n",
            "batch_idx: 77\n",
            "data shape: torch.Size([512, 3, 32, 32])\n",
            "target shape: torch.Size([512])\n",
            "batch_idx: 78\n",
            "data shape: torch.Size([512, 3, 32, 32])\n",
            "target shape: torch.Size([512])\n",
            "batch_idx: 79\n",
            "data shape: torch.Size([512, 3, 32, 32])\n",
            "target shape: torch.Size([512])\n",
            "batch_idx: 80\n",
            "data shape: torch.Size([512, 3, 32, 32])\n",
            "target shape: torch.Size([512])\n",
            "batch_idx: 81\n",
            "data shape: torch.Size([512, 3, 32, 32])\n",
            "target shape: torch.Size([512])\n",
            "batch_idx: 82\n",
            "data shape: torch.Size([512, 3, 32, 32])\n",
            "target shape: torch.Size([512])\n",
            "batch_idx: 83\n",
            "data shape: torch.Size([512, 3, 32, 32])\n",
            "target shape: torch.Size([512])\n",
            "batch_idx: 84\n",
            "data shape: torch.Size([512, 3, 32, 32])\n",
            "target shape: torch.Size([512])\n",
            "batch_idx: 85\n",
            "data shape: torch.Size([512, 3, 32, 32])\n",
            "target shape: torch.Size([512])\n",
            "batch_idx: 86\n",
            "data shape: torch.Size([512, 3, 32, 32])\n",
            "target shape: torch.Size([512])\n",
            "batch_idx: 87\n",
            "data shape: torch.Size([512, 3, 32, 32])\n",
            "target shape: torch.Size([512])\n",
            "batch_idx: 88\n",
            "data shape: torch.Size([512, 3, 32, 32])\n",
            "target shape: torch.Size([512])\n",
            "batch_idx: 89\n",
            "data shape: torch.Size([512, 3, 32, 32])\n",
            "target shape: torch.Size([512])\n",
            "batch_idx: 90\n",
            "data shape: torch.Size([512, 3, 32, 32])\n",
            "target shape: torch.Size([512])\n",
            "batch_idx: 91\n",
            "data shape: torch.Size([512, 3, 32, 32])\n",
            "target shape: torch.Size([512])\n",
            "batch_idx: 92\n",
            "data shape: torch.Size([512, 3, 32, 32])\n",
            "target shape: torch.Size([512])\n",
            "batch_idx: 93\n",
            "data shape: torch.Size([512, 3, 32, 32])\n",
            "target shape: torch.Size([512])\n",
            "batch_idx: 94\n",
            "data shape: torch.Size([512, 3, 32, 32])\n",
            "target shape: torch.Size([512])\n",
            "batch_idx: 95\n",
            "data shape: torch.Size([512, 3, 32, 32])\n",
            "target shape: torch.Size([512])\n",
            "batch_idx: 96\n",
            "data shape: torch.Size([512, 3, 32, 32])\n",
            "target shape: torch.Size([512])\n",
            "batch_idx: 97\n",
            "data shape: torch.Size([336, 3, 32, 32])\n",
            "target shape: torch.Size([336])\n"
          ],
          "name": "stdout"
        }
      ]
    },
    {
      "cell_type": "code",
      "metadata": {
        "colab": {
          "base_uri": "https://localhost:8080/"
        },
        "id": "q5a6fZsJHv9a",
        "outputId": "d7536bc2-ed61-454d-ae84-1e7416055c3b"
      },
      "source": [
        "it = iter(train_loader)\n",
        "first = next(it)\n",
        "second = next(it)\n",
        "print(f\"Length of it: {len(it)}\")\n",
        "print(f\"Length of first: {len(first)}\")\n",
        "print(f\"Length of second: {len(second)}\")"
      ],
      "execution_count": null,
      "outputs": [
        {
          "output_type": "stream",
          "text": [
            "Length of it: 98\n",
            "Length of first: 2\n",
            "Length of second: 2\n"
          ],
          "name": "stdout"
        }
      ]
    },
    {
      "cell_type": "code",
      "metadata": {
        "colab": {
          "base_uri": "https://localhost:8080/"
        },
        "id": "7PH20U37H38o",
        "outputId": "b65cc231-04c7-4a6e-c879-7c604500a8d1"
      },
      "source": [
        "print(f\"Shape of first[0]: {first[0].shape}\")\n",
        "print(f\"Shape of first[1]: {first[1].shape}\")\n",
        "print(f\"Shape of first[0] min value: {first[0].min()}\")\n",
        "print(f\"Shape of first[0] max value: {first[0].max()}\")\n",
        "print(f\"List of unique numerical labels: {first[1].unique()}\")"
      ],
      "execution_count": null,
      "outputs": [
        {
          "output_type": "stream",
          "text": [
            "Shape of first[0]: torch.Size([512, 3, 32, 32])\n",
            "Shape of first[1]: torch.Size([512])\n",
            "Shape of first[0] min value: -2.429065704345703\n",
            "Shape of first[0] max value: 2.7537312507629395\n",
            "List of unique numerical labels: tensor([0, 1, 2, 3, 4, 5, 6, 7, 8, 9])\n"
          ],
          "name": "stdout"
        }
      ]
    },
    {
      "cell_type": "code",
      "metadata": {
        "colab": {
          "base_uri": "https://localhost:8080/"
        },
        "id": "ku7xSf_zH_N7",
        "outputId": "00ed7558-dea5-46ad-e18a-16886ec481a2"
      },
      "source": [
        "print(f\"Shape of second[0]: {second[0].shape}\")\n",
        "print(f\"Shape of second[1]: {second[1].shape}\")\n",
        "print(f\"Shape of second[0] min value: {second[0].min()}\")\n",
        "print(f\"Shape of second[0] max value: {second[0].max()}\")\n",
        "print(f\"List of unique numerical labels: {second[1].unique()}\")"
      ],
      "execution_count": null,
      "outputs": [
        {
          "output_type": "stream",
          "text": [
            "Shape of second[0]: torch.Size([512, 3, 32, 32])\n",
            "Shape of second[1]: torch.Size([512])\n",
            "Shape of second[0] min value: -2.429065704345703\n",
            "Shape of second[0] max value: 2.7537312507629395\n",
            "List of unique numerical labels: tensor([0, 1, 2, 3, 4, 5, 6, 7, 8, 9])\n"
          ],
          "name": "stdout"
        }
      ]
    },
    {
      "cell_type": "markdown",
      "metadata": {
        "id": "4AopBGm1IKki"
      },
      "source": [
        "Thus, we have 98 batches of 512 images of dimensions 32 x 32 and 3 channels. Each image has a numerical integer label from 0 to 9."
      ]
    },
    {
      "cell_type": "code",
      "metadata": {
        "colab": {
          "base_uri": "https://localhost:8080/",
          "height": 94
        },
        "id": "2fkuMZ4aIMAS",
        "outputId": "922159cd-885e-4bd9-bba0-ce127c62e200"
      },
      "source": [
        "data,target=first\n",
        "plt.figure(figsize=(10, 100))\n",
        "for i in range(10):\n",
        "  plt.subplot(1, 10, i+1)\n",
        "  plt.imshow(data[i, 0].cpu())\n",
        "  plt.axis('off')\n",
        "  plt.title(target[i].item())\n",
        "\n",
        "plt.show()"
      ],
      "execution_count": null,
      "outputs": [
        {
          "output_type": "display_data",
          "data": {
            "image/png": "[encoded data removed]",
            "text/plain": [
              "<Figure size 720x7200 with 10 Axes>"
            ]
          },
          "metadata": {
            "tags": [],
            "needs_background": "light"
          }
        }
      ]
    },
    {
      "cell_type": "markdown",
      "metadata": {
        "id": "0mAigZfwI2EI"
      },
      "source": [
        "We will now train our model with two ways: a. without residual connection, b. with residual connection"
      ]
    },
    {
      "cell_type": "markdown",
      "metadata": {
        "id": "UsMcdImVJzVZ"
      },
      "source": [
        "**A. Without Residual Connection**"
      ]
    },
    {
      "cell_type": "markdown",
      "metadata": {
        "id": "DmvejwICbItw"
      },
      "source": [
        "Residual connections are the same thing as 'skip connections'. They are used to allow gradients to flow through a network directly, without passing through non-linear activation functions. "
      ]
    },
    {
      "cell_type": "code",
      "metadata": {
        "id": "AWc-VsG4I-_h"
      },
      "source": [
        "class Net(nn.Module): \n",
        "  def __init__(self):\n",
        "    super(Net, self).__init__()\n",
        "\n",
        "    # x: 32 x 32 x 3 channels\n",
        "    self.cv1 = nn.Conv2d(in_channels=3, out_channels=32, kernel_size=3, stride=1, padding=0, dilation=1) # 32 filters: 3 x 3 x 3 channels\n",
        "    # (input size + (2 x padding) - dilation x (filterize -1) - 1)/stride + 1\n",
        "    # 30 x 30 x 32 channels  # (32 + (2 x 0) - 1 x (3 -1) - 1)/1 + 1 # (32 - 2 - 1)/1 + 1\n",
        "\n",
        "    self.cv2 = nn.Conv2d(in_channels=32, out_channels=64, kernel_size=3, stride=1, padding=0, dilation=1) # 64 filters: 3 x 3 x 32 channels\n",
        "    # 28 x 28 x 64 channels (output_dim=30-3+1)\n",
        "\n",
        "    self.fc1 = nn.Linear(in_features=50176, out_features=128) # 50176 = 28 x 28 x 64\n",
        "    self.fc2 = nn.Linear(in_features=128, out_features=10)\n",
        "    self.sm1 = nn.LogSoftmax(dim=1) # gives you a probability between 0 and 1\n",
        "\n",
        "  def forward(self, x): \n",
        "    out = F.relu(self.cv1(x))   # Conv Layer 1 + ReLU  # 30 x 30 x 32 channels\n",
        "    out = F.relu(self.cv2(out)) # Conv Layer 2 + ReLU # 28 x 28 x 64 channels \n",
        "\n",
        "    out = out.view(out.size(0), -1) # Reshape from 28 x 28 x 64 to  50176 x 1\n",
        "\n",
        "    out = F.relu(self.fc1(out)) # Fully Connected Layer 1 + ReLu # 128 x 1\n",
        "    out = self.fc2(out) # Fully Connected Layer 2 # 128 x 1\n",
        "    out = self.sm1(out) # Log Softmax Activation Function\n",
        "    \n",
        "    return out\n",
        "      \n",
        "model = Net().to(device)\n",
        "optimizer = optim.Adam(model.parameters(), lr=0.001) \n",
        "lossfun = nn.NLLLoss() # maximum likelihood estimation; other options: MSE(), CE()\n"
      ],
      "execution_count": null,
      "outputs": []
    },
    {
      "cell_type": "markdown",
      "metadata": {
        "id": "5uPgs5QMcws_"
      },
      "source": [
        "Training our model. NOTE: We only define our train function here once and it will be reused for the option b. "
      ]
    },
    {
      "cell_type": "code",
      "metadata": {
        "id": "ELkcUm3rdqVD"
      },
      "source": [
        "def train(model, train_loader, epochs): \n",
        "  model.train() \n",
        "\n",
        "  epoch_loss = []\n",
        "  epoch_accu = []\n",
        "\n",
        "  for epoch in range(epochs):\n",
        "    for batch_idx, (data, target) in enumerate(train_loader):\n",
        "\n",
        "      data, target = data.to(device), target.to(device)\n",
        "\n",
        "      output = model(data)\n",
        "\n",
        "      loss = lossfun(output, target)\n",
        "\n",
        "      optimizer.zero_grad()\n",
        "      loss.backward()\n",
        "\n",
        "      optimizer.step()\n",
        "\n",
        "      ##### Bookkeeping\n",
        "\n",
        "      accuracy = (output.argmax(-1)==target).float().mean() # 512 x 1 vector where each entry is whether or not the highest \n",
        "        # probability label output by the model corresponds to the actual target label\n",
        "      epoch_loss.append(loss.item())\n",
        "      epoch_accu.append(accuracy.item())\n",
        "        # accuracy: 1%\n",
        "        # accuracy: 7%\n",
        "        # accuracy: 10%\n",
        "        # accuracy: 15%\n",
        "    # accuracy.item([1,7,10,15])\n",
        "\n",
        "      if batch_idx % 50 == 0: \n",
        "        print('Train Epoch: {}[{}/{} ({:.0f}%)]\\tLoss: {:.6f}\\tAccuracy: {:.2f}'.format(\n",
        "            epoch+1, batch_idx*len(data), len(train_loader.dataset), \n",
        "            100. * batch_idx / len(train_loader), loss.item(), accuracy.item()))\n",
        "      \n",
        "      print('Train Epoch: {}\\tAverage Loss: {:.6f}\\tAverage Accuracy: {:.2f}'.format(\n",
        "            epoch+1, sum(epoch_loss)/len(epoch_loss), sum(epoch_accu)/len(epoch_accu)))\n",
        "\n",
        "  torch.save(model.state_dict(), 'cifar10_cnn.pt')\n",
        "\n",
        "  return epoch_loss, epoch_accu"
      ],
      "execution_count": null,
      "outputs": []
    },
    {
      "cell_type": "code",
      "metadata": {
        "colab": {
          "base_uri": "https://localhost:8080/"
        },
        "id": "ewGual7qZy-q",
        "outputId": "7bdcf67c-044b-413a-866a-464608a9b7f4"
      },
      "source": [
        "epoch_loss, epoch_accu = train(model, train_loader, epochs=1)"
      ],
      "execution_count": null,
      "outputs": [
        {
          "output_type": "stream",
          "text": [
            "Train Epoch: 1[0/50000 (0%)]\tLoss: 1.330685\tAccuracy: 0.53\n",
            "Train Epoch: 1\tAverage Loss: 1.330685\tAverage Accuracy: 0.53\n",
            "Train Epoch: 1\tAverage Loss: 1.289409\tAverage Accuracy: 0.55\n",
            "Train Epoch: 1\tAverage Loss: 1.267436\tAverage Accuracy: 0.55\n",
            "Train Epoch: 1\tAverage Loss: 1.258078\tAverage Accuracy: 0.56\n",
            "Train Epoch: 1\tAverage Loss: 1.250166\tAverage Accuracy: 0.56\n",
            "Train Epoch: 1\tAverage Loss: 1.234782\tAverage Accuracy: 0.56\n",
            "Train Epoch: 1\tAverage Loss: 1.238164\tAverage Accuracy: 0.57\n",
            "Train Epoch: 1\tAverage Loss: 1.245969\tAverage Accuracy: 0.56\n",
            "Train Epoch: 1\tAverage Loss: 1.236687\tAverage Accuracy: 0.57\n",
            "Train Epoch: 1\tAverage Loss: 1.246104\tAverage Accuracy: 0.57\n",
            "Train Epoch: 1\tAverage Loss: 1.244100\tAverage Accuracy: 0.56\n",
            "Train Epoch: 1\tAverage Loss: 1.234375\tAverage Accuracy: 0.57\n",
            "Train Epoch: 1\tAverage Loss: 1.228497\tAverage Accuracy: 0.57\n",
            "Train Epoch: 1\tAverage Loss: 1.228022\tAverage Accuracy: 0.57\n",
            "Train Epoch: 1\tAverage Loss: 1.225020\tAverage Accuracy: 0.57\n",
            "Train Epoch: 1\tAverage Loss: 1.220873\tAverage Accuracy: 0.57\n",
            "Train Epoch: 1\tAverage Loss: 1.215849\tAverage Accuracy: 0.57\n",
            "Train Epoch: 1\tAverage Loss: 1.215616\tAverage Accuracy: 0.57\n",
            "Train Epoch: 1\tAverage Loss: 1.216291\tAverage Accuracy: 0.57\n",
            "Train Epoch: 1\tAverage Loss: 1.216293\tAverage Accuracy: 0.57\n",
            "Train Epoch: 1\tAverage Loss: 1.213388\tAverage Accuracy: 0.57\n",
            "Train Epoch: 1\tAverage Loss: 1.212431\tAverage Accuracy: 0.57\n",
            "Train Epoch: 1\tAverage Loss: 1.214355\tAverage Accuracy: 0.57\n",
            "Train Epoch: 1\tAverage Loss: 1.215253\tAverage Accuracy: 0.57\n",
            "Train Epoch: 1\tAverage Loss: 1.215024\tAverage Accuracy: 0.57\n",
            "Train Epoch: 1\tAverage Loss: 1.211858\tAverage Accuracy: 0.58\n",
            "Train Epoch: 1\tAverage Loss: 1.209490\tAverage Accuracy: 0.58\n",
            "Train Epoch: 1\tAverage Loss: 1.207978\tAverage Accuracy: 0.57\n",
            "Train Epoch: 1\tAverage Loss: 1.204692\tAverage Accuracy: 0.58\n",
            "Train Epoch: 1\tAverage Loss: 1.204454\tAverage Accuracy: 0.58\n",
            "Train Epoch: 1\tAverage Loss: 1.206180\tAverage Accuracy: 0.58\n",
            "Train Epoch: 1\tAverage Loss: 1.203249\tAverage Accuracy: 0.58\n",
            "Train Epoch: 1\tAverage Loss: 1.203090\tAverage Accuracy: 0.58\n",
            "Train Epoch: 1\tAverage Loss: 1.200975\tAverage Accuracy: 0.58\n",
            "Train Epoch: 1\tAverage Loss: 1.201594\tAverage Accuracy: 0.58\n",
            "Train Epoch: 1\tAverage Loss: 1.200105\tAverage Accuracy: 0.58\n",
            "Train Epoch: 1\tAverage Loss: 1.199852\tAverage Accuracy: 0.58\n",
            "Train Epoch: 1\tAverage Loss: 1.197073\tAverage Accuracy: 0.58\n",
            "Train Epoch: 1\tAverage Loss: 1.194381\tAverage Accuracy: 0.58\n",
            "Train Epoch: 1\tAverage Loss: 1.195368\tAverage Accuracy: 0.58\n",
            "Train Epoch: 1\tAverage Loss: 1.193696\tAverage Accuracy: 0.58\n",
            "Train Epoch: 1\tAverage Loss: 1.192157\tAverage Accuracy: 0.58\n",
            "Train Epoch: 1\tAverage Loss: 1.190530\tAverage Accuracy: 0.58\n",
            "Train Epoch: 1\tAverage Loss: 1.189449\tAverage Accuracy: 0.58\n",
            "Train Epoch: 1\tAverage Loss: 1.187780\tAverage Accuracy: 0.58\n",
            "Train Epoch: 1\tAverage Loss: 1.186243\tAverage Accuracy: 0.58\n",
            "Train Epoch: 1\tAverage Loss: 1.184426\tAverage Accuracy: 0.58\n",
            "Train Epoch: 1\tAverage Loss: 1.182972\tAverage Accuracy: 0.58\n",
            "Train Epoch: 1\tAverage Loss: 1.183512\tAverage Accuracy: 0.58\n",
            "Train Epoch: 1\tAverage Loss: 1.183929\tAverage Accuracy: 0.58\n",
            "Train Epoch: 1[25600/50000 (51%)]\tLoss: 1.142464\tAccuracy: 0.60\n",
            "Train Epoch: 1\tAverage Loss: 1.183116\tAverage Accuracy: 0.58\n",
            "Train Epoch: 1\tAverage Loss: 1.183431\tAverage Accuracy: 0.58\n",
            "Train Epoch: 1\tAverage Loss: 1.183452\tAverage Accuracy: 0.58\n",
            "Train Epoch: 1\tAverage Loss: 1.180861\tAverage Accuracy: 0.58\n",
            "Train Epoch: 1\tAverage Loss: 1.180421\tAverage Accuracy: 0.58\n",
            "Train Epoch: 1\tAverage Loss: 1.179951\tAverage Accuracy: 0.58\n",
            "Train Epoch: 1\tAverage Loss: 1.179123\tAverage Accuracy: 0.58\n",
            "Train Epoch: 1\tAverage Loss: 1.177465\tAverage Accuracy: 0.59\n",
            "Train Epoch: 1\tAverage Loss: 1.176447\tAverage Accuracy: 0.59\n",
            "Train Epoch: 1\tAverage Loss: 1.176425\tAverage Accuracy: 0.59\n",
            "Train Epoch: 1\tAverage Loss: 1.175407\tAverage Accuracy: 0.59\n",
            "Train Epoch: 1\tAverage Loss: 1.173699\tAverage Accuracy: 0.59\n",
            "Train Epoch: 1\tAverage Loss: 1.174190\tAverage Accuracy: 0.59\n",
            "Train Epoch: 1\tAverage Loss: 1.173375\tAverage Accuracy: 0.59\n",
            "Train Epoch: 1\tAverage Loss: 1.171844\tAverage Accuracy: 0.59\n",
            "Train Epoch: 1\tAverage Loss: 1.170314\tAverage Accuracy: 0.59\n",
            "Train Epoch: 1\tAverage Loss: 1.169414\tAverage Accuracy: 0.59\n",
            "Train Epoch: 1\tAverage Loss: 1.169395\tAverage Accuracy: 0.59\n",
            "Train Epoch: 1\tAverage Loss: 1.168498\tAverage Accuracy: 0.59\n",
            "Train Epoch: 1\tAverage Loss: 1.167985\tAverage Accuracy: 0.59\n",
            "Train Epoch: 1\tAverage Loss: 1.167280\tAverage Accuracy: 0.59\n",
            "Train Epoch: 1\tAverage Loss: 1.166083\tAverage Accuracy: 0.59\n",
            "Train Epoch: 1\tAverage Loss: 1.164791\tAverage Accuracy: 0.59\n",
            "Train Epoch: 1\tAverage Loss: 1.163990\tAverage Accuracy: 0.59\n",
            "Train Epoch: 1\tAverage Loss: 1.163524\tAverage Accuracy: 0.59\n",
            "Train Epoch: 1\tAverage Loss: 1.162911\tAverage Accuracy: 0.59\n",
            "Train Epoch: 1\tAverage Loss: 1.163008\tAverage Accuracy: 0.59\n",
            "Train Epoch: 1\tAverage Loss: 1.161806\tAverage Accuracy: 0.59\n",
            "Train Epoch: 1\tAverage Loss: 1.160199\tAverage Accuracy: 0.59\n",
            "Train Epoch: 1\tAverage Loss: 1.159579\tAverage Accuracy: 0.59\n",
            "Train Epoch: 1\tAverage Loss: 1.158316\tAverage Accuracy: 0.59\n",
            "Train Epoch: 1\tAverage Loss: 1.157799\tAverage Accuracy: 0.59\n",
            "Train Epoch: 1\tAverage Loss: 1.157477\tAverage Accuracy: 0.59\n",
            "Train Epoch: 1\tAverage Loss: 1.157966\tAverage Accuracy: 0.59\n",
            "Train Epoch: 1\tAverage Loss: 1.156547\tAverage Accuracy: 0.59\n",
            "Train Epoch: 1\tAverage Loss: 1.155351\tAverage Accuracy: 0.59\n",
            "Train Epoch: 1\tAverage Loss: 1.154061\tAverage Accuracy: 0.59\n",
            "Train Epoch: 1\tAverage Loss: 1.153137\tAverage Accuracy: 0.59\n",
            "Train Epoch: 1\tAverage Loss: 1.152827\tAverage Accuracy: 0.59\n",
            "Train Epoch: 1\tAverage Loss: 1.152028\tAverage Accuracy: 0.59\n",
            "Train Epoch: 1\tAverage Loss: 1.151306\tAverage Accuracy: 0.59\n",
            "Train Epoch: 1\tAverage Loss: 1.151112\tAverage Accuracy: 0.59\n",
            "Train Epoch: 1\tAverage Loss: 1.150309\tAverage Accuracy: 0.59\n",
            "Train Epoch: 1\tAverage Loss: 1.149960\tAverage Accuracy: 0.60\n",
            "Train Epoch: 1\tAverage Loss: 1.148699\tAverage Accuracy: 0.60\n",
            "Train Epoch: 1\tAverage Loss: 1.147946\tAverage Accuracy: 0.60\n",
            "Train Epoch: 1\tAverage Loss: 1.146486\tAverage Accuracy: 0.60\n",
            "Train Epoch: 1\tAverage Loss: 1.144545\tAverage Accuracy: 0.60\n"
          ],
          "name": "stdout"
        }
      ]
    },
    {
      "cell_type": "markdown",
      "metadata": {
        "id": "8oYGkFf_ePyw"
      },
      "source": [
        "PLOT THE LOSS FUNCTION"
      ]
    },
    {
      "cell_type": "code",
      "metadata": {
        "colab": {
          "base_uri": "https://localhost:8080/",
          "height": 539
        },
        "id": "YV4EusvUeUDe",
        "outputId": "afe61d33-ca11-4f94-c70e-37559ffcbad2"
      },
      "source": [
        "plt.figure(figsize=(10,5))\n",
        "plt.subplot(1, 2, 1)\n",
        "\n",
        "plt.plot(epoch_loss)\n",
        "plt.xlabel('batch')\n",
        "plt.ylabel('loss')\n",
        "\n",
        "plt.subplot(1, 2, 2)\n",
        "plt.plot(epoch_accu)\n",
        "plt.xlabel('batch')\n",
        "plt.ylabel('accuracy')"
      ],
      "execution_count": null,
      "outputs": [
        {
          "output_type": "error",
          "ename": "NameError",
          "evalue": "ignored",
          "traceback": [
            "\u001b[0;31m---------------------------------------------------------------------------\u001b[0m",
            "\u001b[0;31mNameError\u001b[0m                                 Traceback (most recent call last)",
            "\u001b[0;32m<ipython-input-15-64ffbffa29cd>\u001b[0m in \u001b[0;36m<module>\u001b[0;34m()\u001b[0m\n\u001b[1;32m      2\u001b[0m \u001b[0mplt\u001b[0m\u001b[0;34m.\u001b[0m\u001b[0msubplot\u001b[0m\u001b[0;34m(\u001b[0m\u001b[0;36m1\u001b[0m\u001b[0;34m,\u001b[0m \u001b[0;36m2\u001b[0m\u001b[0;34m,\u001b[0m \u001b[0;36m1\u001b[0m\u001b[0;34m)\u001b[0m\u001b[0;34m\u001b[0m\u001b[0;34m\u001b[0m\u001b[0m\n\u001b[1;32m      3\u001b[0m \u001b[0;34m\u001b[0m\u001b[0m\n\u001b[0;32m----> 4\u001b[0;31m \u001b[0mplt\u001b[0m\u001b[0;34m.\u001b[0m\u001b[0mplot\u001b[0m\u001b[0;34m(\u001b[0m\u001b[0mepoch_loss\u001b[0m\u001b[0;34m)\u001b[0m\u001b[0;34m\u001b[0m\u001b[0;34m\u001b[0m\u001b[0m\n\u001b[0m\u001b[1;32m      5\u001b[0m \u001b[0mplt\u001b[0m\u001b[0;34m.\u001b[0m\u001b[0mxlabel\u001b[0m\u001b[0;34m(\u001b[0m\u001b[0;34m'batch'\u001b[0m\u001b[0;34m)\u001b[0m\u001b[0;34m\u001b[0m\u001b[0;34m\u001b[0m\u001b[0m\n\u001b[1;32m      6\u001b[0m \u001b[0mplt\u001b[0m\u001b[0;34m.\u001b[0m\u001b[0mylabel\u001b[0m\u001b[0;34m(\u001b[0m\u001b[0;34m'loss'\u001b[0m\u001b[0;34m)\u001b[0m\u001b[0;34m\u001b[0m\u001b[0;34m\u001b[0m\u001b[0m\n",
            "\u001b[0;31mNameError\u001b[0m: name 'epoch_loss' is not defined"
          ]
        },
        {
          "output_type": "display_data",
          "data": {
            "image/png": "[encoded data removed]",
            "text/plain": [
              "<Figure size 720x360 with 1 Axes>"
            ]
          },
          "metadata": {
            "tags": [],
            "needs_background": "light"
          }
        }
      ]
    },
    {
      "cell_type": "markdown",
      "metadata": {
        "id": "OgaCYAbIeZZx"
      },
      "source": [
        "TEST our model"
      ]
    },
    {
      "cell_type": "code",
      "metadata": {
        "id": "0ZkoO2WAebFT"
      },
      "source": [
        "# Define the test set \n",
        "test_loader = torch.utils.data.DataLoader(\n",
        "    datasets.CIFAR10('../data', train=False, transform=transforms.Compose([\n",
        "                       transforms.ToTensor(),\n",
        "                       transforms.Normalize((0.4914, 0.4822, 0.4465), (0.2023, 0.1994, 0.2010))])),\n",
        "    batch_size=512, shuffle=True, **kwargs)"
      ],
      "execution_count": null,
      "outputs": []
    },
    {
      "cell_type": "code",
      "metadata": {
        "id": "42ooZ9YbeoSX"
      },
      "source": [
        "# Define test function\n",
        "def test(model, test_loader):\n",
        "  model.eval() # put the model into the evaluation mod\n",
        "  test_loss = 0\n",
        "  test_accu = 0\n",
        "  \n",
        "  with torch.no_grad(): \n",
        "\n",
        "    for data, target in test_loader:\n",
        "      data, target = data.to(device), target.to(device)\n",
        "\n",
        "      output = model(data)\n",
        "\n",
        "      ## Bookkeeping\n",
        "      test_loss += F.nll_loss(output, target, reduction='sum').item()\n",
        "      test_accu += (output.argmax(dim=-1)==target).float().sum().item()\n",
        "\n",
        "    test_loss /= len(test_loader.dataset)\n",
        "    test_accu /= len(test_loader.dataset)\n",
        "\n",
        "\n",
        "\n",
        "    print('\\nTest set: Average Loss: {:.4f}, Accuracy: {:.2f}\\n'.format(test_loss, test_accu))\n",
        "    \n",
        "    return test_loss, test_accu"
      ],
      "execution_count": null,
      "outputs": []
    },
    {
      "cell_type": "code",
      "metadata": {
        "colab": {
          "base_uri": "https://localhost:8080/"
        },
        "id": "eq-KvUmzgXdp",
        "outputId": "15ef4da0-3805-4767-ae27-9b738a6690e6"
      },
      "source": [
        "test_loss, test_accu = test(model, test_loader)"
      ],
      "execution_count": null,
      "outputs": [
        {
          "output_type": "stream",
          "text": [
            "\n",
            "Test set: Average Loss: 1.1017, Accuracy: 0.61\n",
            "\n"
          ],
          "name": "stdout"
        }
      ]
    },
    {
      "cell_type": "markdown",
      "metadata": {
        "id": "ulTqOHCzgjs6"
      },
      "source": [
        "**B. WITH RESIDUAL CONNECTION**"
      ]
    },
    {
      "cell_type": "markdown",
      "metadata": {
        "id": "s1GHdfjqhtKQ"
      },
      "source": [
        "DEFINE NEURAL NETWORK MODEL WITH RESIDUAL CONENCTION"
      ]
    },
    {
      "cell_type": "code",
      "metadata": {
        "id": "eU_EmpVzhqQ5"
      },
      "source": [
        "class Net(nn.Module):\n",
        "  def __init__(self):\n",
        "    super(Net, self).__init__()\n",
        "\n",
        "    # x: 32 x 32 x 3 channels\n",
        "    self.cv1 = nn.Conv2d(in_channels=3, out_channels=32, kernel_size=3, stride=1, padding=0, dilation=1) # 32 filters: 3 x 3 x 3 channels\n",
        "    # (input size + (2 x padding) - dilation x (filterize -1) - 1)/stride + 1\n",
        "    # 30 x 30 x 32 channels  # (32 + (2 x 0) - 1 x (3 -1) - 1)/1 + 1 # (32 - 2 - 1)/1 + 1\n",
        "\n",
        "    self.cv2 = nn.Conv2d(in_channels=32, out_channels=64, kernel_size=3, stride=1, padding=0, dilation=1) # 64 filters: 3 x 3 x 32 channels\n",
        "    # 28 x 28 x 64 channels (output_dim=30-3+1)\n",
        "\n",
        "    # residual connection\n",
        "        # input x: 32 x 32 x 3 channels\n",
        "        # output resized to fit previous output: 28 x 28 x 64 \n",
        "    self.shortcut = nn.Conv2d(in_channels=3, out_channels=64, kernel_size=5)\n",
        "\n",
        "    self.fc1 = nn.Linear(in_features=50176, out_features=128) # 50176 = 28 x 28 x 64\n",
        "    self.fc2 = nn.Linear(in_features=128, out_features=10)\n",
        "    self.sm1 = nn.LogSoftmax(dim=1)\n",
        "\n",
        "  def forward(self, x): \n",
        "    out = F.relu(self.cv1(x))   # Conv Layer 1 + ReLU  # 30 x 30 x 32 channels\n",
        "    out = F.relu(self.cv2(out)) # Conv Layer 2 + ReLU # 28 x 28 x 64 channels \n",
        "\n",
        "    out = out.view(out.size(0), -1) # Reshape from 28 x 28 x 64 to  50176 x 1\n",
        "\n",
        "    out = F.relu(self.fc1(out)) # Fully Connected Layer 1 + ReLu # 128 x 1\n",
        "    out = self.fc2(out) # Fully Connected Layer 2 # 128 x 1\n",
        "    out = self.sm1(out) # Log Softmax Activation Function\n",
        "    \n",
        "    return out\n",
        "\n",
        "model_with_rc = Net().to(device)\n",
        "optimizer = optim.Adam(model.parameters(), lr=0.001) \n",
        "lossfun = nn.NLLLoss()"
      ],
      "execution_count": null,
      "outputs": []
    },
    {
      "cell_type": "code",
      "metadata": {
        "colab": {
          "base_uri": "https://localhost:8080/"
        },
        "id": "NVCSkZbJiYxZ",
        "outputId": "8d942d60-3d97-4624-905b-79507f0a3eed"
      },
      "source": [
        "epoch_loss2, epoch_accu2 = train(model_with_rc, train_loader, epochs=1)"
      ],
      "execution_count": null,
      "outputs": [
        {
          "output_type": "stream",
          "text": [
            "Train Epoch: 1[0/50000 (0%)]\tLoss: 2.306356\tAccuracy: 0.09\n",
            "Train Epoch: 1\tAverage Loss: 2.306356\tAverage Accuracy: 0.09\n",
            "Train Epoch: 1\tAverage Loss: 2.307834\tAverage Accuracy: 0.09\n",
            "Train Epoch: 1\tAverage Loss: 2.306959\tAverage Accuracy: 0.10\n",
            "Train Epoch: 1\tAverage Loss: 2.306863\tAverage Accuracy: 0.10\n",
            "Train Epoch: 1\tAverage Loss: 2.307017\tAverage Accuracy: 0.10\n",
            "Train Epoch: 1\tAverage Loss: 2.307219\tAverage Accuracy: 0.10\n",
            "Train Epoch: 1\tAverage Loss: 2.307111\tAverage Accuracy: 0.10\n",
            "Train Epoch: 1\tAverage Loss: 2.307152\tAverage Accuracy: 0.10\n",
            "Train Epoch: 1\tAverage Loss: 2.307177\tAverage Accuracy: 0.10\n",
            "Train Epoch: 1\tAverage Loss: 2.307206\tAverage Accuracy: 0.10\n",
            "Train Epoch: 1\tAverage Loss: 2.306945\tAverage Accuracy: 0.10\n",
            "Train Epoch: 1\tAverage Loss: 2.307112\tAverage Accuracy: 0.10\n",
            "Train Epoch: 1\tAverage Loss: 2.307198\tAverage Accuracy: 0.10\n",
            "Train Epoch: 1\tAverage Loss: 2.307224\tAverage Accuracy: 0.10\n",
            "Train Epoch: 1\tAverage Loss: 2.307367\tAverage Accuracy: 0.10\n",
            "Train Epoch: 1\tAverage Loss: 2.307257\tAverage Accuracy: 0.10\n",
            "Train Epoch: 1\tAverage Loss: 2.307335\tAverage Accuracy: 0.10\n",
            "Train Epoch: 1\tAverage Loss: 2.307008\tAverage Accuracy: 0.10\n",
            "Train Epoch: 1\tAverage Loss: 2.307061\tAverage Accuracy: 0.10\n",
            "Train Epoch: 1\tAverage Loss: 2.307143\tAverage Accuracy: 0.10\n",
            "Train Epoch: 1\tAverage Loss: 2.307314\tAverage Accuracy: 0.10\n",
            "Train Epoch: 1\tAverage Loss: 2.307216\tAverage Accuracy: 0.10\n",
            "Train Epoch: 1\tAverage Loss: 2.307276\tAverage Accuracy: 0.10\n",
            "Train Epoch: 1\tAverage Loss: 2.307276\tAverage Accuracy: 0.10\n",
            "Train Epoch: 1\tAverage Loss: 2.307299\tAverage Accuracy: 0.10\n",
            "Train Epoch: 1\tAverage Loss: 2.307403\tAverage Accuracy: 0.10\n",
            "Train Epoch: 1\tAverage Loss: 2.307402\tAverage Accuracy: 0.10\n",
            "Train Epoch: 1\tAverage Loss: 2.307487\tAverage Accuracy: 0.10\n",
            "Train Epoch: 1\tAverage Loss: 2.307710\tAverage Accuracy: 0.10\n",
            "Train Epoch: 1\tAverage Loss: 2.307823\tAverage Accuracy: 0.10\n",
            "Train Epoch: 1\tAverage Loss: 2.307816\tAverage Accuracy: 0.10\n",
            "Train Epoch: 1\tAverage Loss: 2.307834\tAverage Accuracy: 0.10\n",
            "Train Epoch: 1\tAverage Loss: 2.307857\tAverage Accuracy: 0.10\n",
            "Train Epoch: 1\tAverage Loss: 2.307776\tAverage Accuracy: 0.10\n",
            "Train Epoch: 1\tAverage Loss: 2.307676\tAverage Accuracy: 0.10\n",
            "Train Epoch: 1\tAverage Loss: 2.307773\tAverage Accuracy: 0.10\n",
            "Train Epoch: 1\tAverage Loss: 2.307699\tAverage Accuracy: 0.10\n",
            "Train Epoch: 1\tAverage Loss: 2.307733\tAverage Accuracy: 0.09\n",
            "Train Epoch: 1\tAverage Loss: 2.307797\tAverage Accuracy: 0.10\n",
            "Train Epoch: 1\tAverage Loss: 2.307836\tAverage Accuracy: 0.09\n",
            "Train Epoch: 1\tAverage Loss: 2.307874\tAverage Accuracy: 0.09\n",
            "Train Epoch: 1\tAverage Loss: 2.307867\tAverage Accuracy: 0.09\n",
            "Train Epoch: 1\tAverage Loss: 2.307888\tAverage Accuracy: 0.09\n",
            "Train Epoch: 1\tAverage Loss: 2.307840\tAverage Accuracy: 0.09\n",
            "Train Epoch: 1\tAverage Loss: 2.307810\tAverage Accuracy: 0.09\n",
            "Train Epoch: 1\tAverage Loss: 2.307778\tAverage Accuracy: 0.09\n",
            "Train Epoch: 1\tAverage Loss: 2.307794\tAverage Accuracy: 0.09\n",
            "Train Epoch: 1\tAverage Loss: 2.307709\tAverage Accuracy: 0.09\n",
            "Train Epoch: 1\tAverage Loss: 2.307707\tAverage Accuracy: 0.09\n",
            "Train Epoch: 1\tAverage Loss: 2.307697\tAverage Accuracy: 0.09\n",
            "Train Epoch: 1[25600/50000 (51%)]\tLoss: 2.305183\tAccuracy: 0.09\n",
            "Train Epoch: 1\tAverage Loss: 2.307648\tAverage Accuracy: 0.09\n",
            "Train Epoch: 1\tAverage Loss: 2.307528\tAverage Accuracy: 0.09\n",
            "Train Epoch: 1\tAverage Loss: 2.307589\tAverage Accuracy: 0.09\n",
            "Train Epoch: 1\tAverage Loss: 2.307558\tAverage Accuracy: 0.09\n",
            "Train Epoch: 1\tAverage Loss: 2.307550\tAverage Accuracy: 0.09\n",
            "Train Epoch: 1\tAverage Loss: 2.307516\tAverage Accuracy: 0.09\n",
            "Train Epoch: 1\tAverage Loss: 2.307487\tAverage Accuracy: 0.09\n",
            "Train Epoch: 1\tAverage Loss: 2.307542\tAverage Accuracy: 0.09\n",
            "Train Epoch: 1\tAverage Loss: 2.307407\tAverage Accuracy: 0.09\n",
            "Train Epoch: 1\tAverage Loss: 2.307438\tAverage Accuracy: 0.09\n",
            "Train Epoch: 1\tAverage Loss: 2.307491\tAverage Accuracy: 0.09\n",
            "Train Epoch: 1\tAverage Loss: 2.307392\tAverage Accuracy: 0.10\n",
            "Train Epoch: 1\tAverage Loss: 2.307322\tAverage Accuracy: 0.10\n",
            "Train Epoch: 1\tAverage Loss: 2.307257\tAverage Accuracy: 0.10\n",
            "Train Epoch: 1\tAverage Loss: 2.307250\tAverage Accuracy: 0.10\n",
            "Train Epoch: 1\tAverage Loss: 2.307296\tAverage Accuracy: 0.09\n",
            "Train Epoch: 1\tAverage Loss: 2.307257\tAverage Accuracy: 0.10\n",
            "Train Epoch: 1\tAverage Loss: 2.307265\tAverage Accuracy: 0.10\n",
            "Train Epoch: 1\tAverage Loss: 2.307245\tAverage Accuracy: 0.10\n",
            "Train Epoch: 1\tAverage Loss: 2.307281\tAverage Accuracy: 0.10\n",
            "Train Epoch: 1\tAverage Loss: 2.307285\tAverage Accuracy: 0.10\n",
            "Train Epoch: 1\tAverage Loss: 2.307317\tAverage Accuracy: 0.10\n",
            "Train Epoch: 1\tAverage Loss: 2.307285\tAverage Accuracy: 0.10\n",
            "Train Epoch: 1\tAverage Loss: 2.307216\tAverage Accuracy: 0.10\n",
            "Train Epoch: 1\tAverage Loss: 2.307201\tAverage Accuracy: 0.10\n",
            "Train Epoch: 1\tAverage Loss: 2.307152\tAverage Accuracy: 0.10\n",
            "Train Epoch: 1\tAverage Loss: 2.307125\tAverage Accuracy: 0.10\n",
            "Train Epoch: 1\tAverage Loss: 2.307163\tAverage Accuracy: 0.10\n",
            "Train Epoch: 1\tAverage Loss: 2.307163\tAverage Accuracy: 0.10\n",
            "Train Epoch: 1\tAverage Loss: 2.307181\tAverage Accuracy: 0.10\n",
            "Train Epoch: 1\tAverage Loss: 2.307170\tAverage Accuracy: 0.10\n",
            "Train Epoch: 1\tAverage Loss: 2.307244\tAverage Accuracy: 0.10\n",
            "Train Epoch: 1\tAverage Loss: 2.307241\tAverage Accuracy: 0.10\n",
            "Train Epoch: 1\tAverage Loss: 2.307215\tAverage Accuracy: 0.10\n",
            "Train Epoch: 1\tAverage Loss: 2.307240\tAverage Accuracy: 0.10\n",
            "Train Epoch: 1\tAverage Loss: 2.307216\tAverage Accuracy: 0.10\n",
            "Train Epoch: 1\tAverage Loss: 2.307210\tAverage Accuracy: 0.10\n",
            "Train Epoch: 1\tAverage Loss: 2.307270\tAverage Accuracy: 0.10\n",
            "Train Epoch: 1\tAverage Loss: 2.307276\tAverage Accuracy: 0.10\n",
            "Train Epoch: 1\tAverage Loss: 2.307278\tAverage Accuracy: 0.10\n",
            "Train Epoch: 1\tAverage Loss: 2.307247\tAverage Accuracy: 0.10\n",
            "Train Epoch: 1\tAverage Loss: 2.307245\tAverage Accuracy: 0.09\n",
            "Train Epoch: 1\tAverage Loss: 2.307252\tAverage Accuracy: 0.09\n",
            "Train Epoch: 1\tAverage Loss: 2.307305\tAverage Accuracy: 0.09\n",
            "Train Epoch: 1\tAverage Loss: 2.307300\tAverage Accuracy: 0.09\n",
            "Train Epoch: 1\tAverage Loss: 2.307328\tAverage Accuracy: 0.09\n",
            "Train Epoch: 1\tAverage Loss: 2.307300\tAverage Accuracy: 0.09\n",
            "Train Epoch: 1\tAverage Loss: 2.307313\tAverage Accuracy: 0.10\n"
          ],
          "name": "stdout"
        }
      ]
    },
    {
      "cell_type": "code",
      "metadata": {
        "colab": {
          "base_uri": "https://localhost:8080/"
        },
        "id": "JmlcPI0kidaf",
        "outputId": "ecf101a8-d0af-46f6-8489-143bade7b347"
      },
      "source": [
        "test_loss, test_accu = test(model_with_rc, test_loader)"
      ],
      "execution_count": null,
      "outputs": [
        {
          "output_type": "stream",
          "text": [
            "\n",
            "Test set: Average Loss: 2.3083, Accuracy: 0.09\n",
            "\n"
          ],
          "name": "stdout"
        }
      ]
    },
    {
      "cell_type": "markdown",
      "metadata": {
        "id": "5ByiFW_ylHCZ"
      },
      "source": [
        "**TASK 2: AUTOENCODER CIFAR10**\n",
        "\n",
        "\n"
      ]
    },
    {
      "cell_type": "code",
      "metadata": {
        "id": "365r8uv5mSFl"
      },
      "source": [
        "class Net_auto(nn.Module):\n",
        "  def __init__(self):\n",
        "    super(Net_auto,self).__init__()\n",
        "\n",
        "    self.conv1 = nn.Conv2d(in_channels=3, out_channels=32, kernel_size=3, stride=1, padding=0, dilation=1)\n",
        "    self.conv2 = nn.Conv2d(in_channels=32, out_channels=64, kernel_size=4, stride=2, padding=0, dilation=1 )\n",
        "    self.fc1 = nn.Linear(in_features=12544, out_features=256)\n",
        "    self.fc2 = nn.Linear(in_features=256, out_features=12544)\n",
        "    self.convT1 = nn.ConvTranspose2d(in_channels=64, out_channels=32, kernel_size=4, stride=2, padding=0)\n",
        "    self.convT2 = nn.ConvTranspose2d(in_channels=32, out_channels=3, kernel_size=3, stride=1, padding=0)\n",
        "\n",
        "\n",
        "  def encoder(self, x):\n",
        "    x = self.conv1(x)\n",
        "    x = F.relu(x)\n",
        "    x = self.conv2(x)\n",
        "    x = F.relu(x)\n",
        "    x = torch.flatten(x, 1) # reshape from 14x14x64 to 12544x 1\n",
        "    x = self.fc1(x)\n",
        "    return x\n",
        "  \n",
        "  def decoder(self, x):\n",
        "    x = self.conv2(x)\n",
        "    x = x.view(x.size(0), 64, 14, 14) # fill x into shape 64x14x14 with all 0 entries \n",
        "    x = F.relu(x)\n",
        "    x = self.convT1(x)\n",
        "    x = self.relu(x)\n",
        "    x = self.convT2(x)\n",
        "\n",
        "    return torch.sigmoid(x)\n",
        "\n",
        "\n",
        "  def forward(self, x):\n",
        "    l = self.encoder(x)\n",
        "    output = self.decoder(l)\n",
        "    return output\n",
        "\n",
        "model_auto = Net_auto().to(device)\n",
        "optimizer_auto = optim.Adam(model_auto.parameters(),lr=0.0001)\n",
        "lossfun_auto = nn.MSELoss()\n"
      ],
      "execution_count": null,
      "outputs": []
    },
    {
      "cell_type": "code",
      "metadata": {
        "colab": {
          "base_uri": "https://localhost:8080/"
        },
        "id": "tkKAzFqItHoX",
        "outputId": "a7793af1-1251-4b28-c94d-80a9ea722485"
      },
      "source": [
        "# Define the training load for Autocoder\n",
        "kwargs = {'num_workers': 1, 'pin_memory': True} if device==torch.device('cuda') else {}\n",
        "ae_train_loader = torch.utils.data.DataLoader(datasets.CIFAR10('../data', train=True, download=True,\n",
        "                                                                    transform=transforms.Compose([transforms.ToTensor()      # Calculate mean and standard deviation of dataset\n",
        "                                                                                      ])), batch_size=512, shuffle=True, **kwargs)"
      ],
      "execution_count": null,
      "outputs": [
        {
          "output_type": "stream",
          "text": [
            "Files already downloaded and verified\n"
          ],
          "name": "stdout"
        }
      ]
    },
    {
      "cell_type": "code",
      "metadata": {
        "colab": {
          "base_uri": "https://localhost:8080/",
          "height": 375
        },
        "id": "0kmUEujFtX8q",
        "outputId": "55f9066d-bae9-4d25-f8de-4c14abea4ac3"
      },
      "source": [
        "epochs = 5\n",
        "epoch_loss_ae1 = 0\n",
        "\n",
        "for epoch in range(epochs):\n",
        "    \n",
        "    # iterate through train dataset\n",
        "    \n",
        "    for batch_idx, (data, _) in enumerate(ae_train_loader):\n",
        "        \n",
        "        data = data.to(device)\n",
        "        \n",
        "        # get output\n",
        "        output = model_auto(data)\n",
        "        \n",
        "        # compute loss function\n",
        "        loss = lossfun_auto(output, data)\n",
        "        \n",
        "        # backward pass\n",
        "        optimizer_ae1.zero_grad()\n",
        "        loss.backward()\n",
        "        \n",
        "        # run optimizer \n",
        "        optimizer_auto.step()\n",
        "        \n",
        "        # bookkeeping\n",
        "        epoch_loss_ae1 += loss.item() * data.size(0)\n",
        "        \n",
        "        if batch_idx % 50 == 0:\n",
        "            print('Train Epoch: {} [{}/{} ({:.0f}%)]\\tLoss: {:.6f}'.format(\n",
        "                epoch+1, batch_idx * len(data), len(ae_train_loader.dataset),\n",
        "                100. * batch_idx / len(ae_train_loader), loss.item()))\n",
        "            \n",
        "    print('Train Epoch: {}\\tAverage Loss: {:.6f}'.format(\n",
        "        epoch+1, epoch_loss_ae1/len(ae_train_loader.dataset)))\n",
        "            \n",
        "# save network\n",
        "torch.save(model_auto.state_dict(), \"mnist_ae.pt\")"
      ],
      "execution_count": null,
      "outputs": [
        {
          "output_type": "error",
          "ename": "RuntimeError",
          "evalue": "ignored",
          "traceback": [
            "\u001b[0;31m---------------------------------------------------------------------------\u001b[0m",
            "\u001b[0;31mRuntimeError\u001b[0m                              Traceback (most recent call last)",
            "\u001b[0;32m<ipython-input-32-98338948c6a9>\u001b[0m in \u001b[0;36m<module>\u001b[0;34m()\u001b[0m\n\u001b[1;32m     11\u001b[0m \u001b[0;34m\u001b[0m\u001b[0m\n\u001b[1;32m     12\u001b[0m         \u001b[0;31m# get output\u001b[0m\u001b[0;34m\u001b[0m\u001b[0;34m\u001b[0m\u001b[0;34m\u001b[0m\u001b[0m\n\u001b[0;32m---> 13\u001b[0;31m         \u001b[0moutput\u001b[0m \u001b[0;34m=\u001b[0m \u001b[0mmodel_auto\u001b[0m\u001b[0;34m(\u001b[0m\u001b[0mdata\u001b[0m\u001b[0;34m)\u001b[0m\u001b[0;34m\u001b[0m\u001b[0;34m\u001b[0m\u001b[0m\n\u001b[0m\u001b[1;32m     14\u001b[0m \u001b[0;34m\u001b[0m\u001b[0m\n\u001b[1;32m     15\u001b[0m         \u001b[0;31m# compute loss function\u001b[0m\u001b[0;34m\u001b[0m\u001b[0;34m\u001b[0m\u001b[0;34m\u001b[0m\u001b[0m\n",
            "\u001b[0;32m/usr/local/lib/python3.7/dist-packages/torch/nn/modules/module.py\u001b[0m in \u001b[0;36m_call_impl\u001b[0;34m(self, *input, **kwargs)\u001b[0m\n\u001b[1;32m    887\u001b[0m             \u001b[0mresult\u001b[0m \u001b[0;34m=\u001b[0m \u001b[0mself\u001b[0m\u001b[0;34m.\u001b[0m\u001b[0m_slow_forward\u001b[0m\u001b[0;34m(\u001b[0m\u001b[0;34m*\u001b[0m\u001b[0minput\u001b[0m\u001b[0;34m,\u001b[0m \u001b[0;34m**\u001b[0m\u001b[0mkwargs\u001b[0m\u001b[0;34m)\u001b[0m\u001b[0;34m\u001b[0m\u001b[0;34m\u001b[0m\u001b[0m\n\u001b[1;32m    888\u001b[0m         \u001b[0;32melse\u001b[0m\u001b[0;34m:\u001b[0m\u001b[0;34m\u001b[0m\u001b[0;34m\u001b[0m\u001b[0m\n\u001b[0;32m--> 889\u001b[0;31m             \u001b[0mresult\u001b[0m \u001b[0;34m=\u001b[0m \u001b[0mself\u001b[0m\u001b[0;34m.\u001b[0m\u001b[0mforward\u001b[0m\u001b[0;34m(\u001b[0m\u001b[0;34m*\u001b[0m\u001b[0minput\u001b[0m\u001b[0;34m,\u001b[0m \u001b[0;34m**\u001b[0m\u001b[0mkwargs\u001b[0m\u001b[0;34m)\u001b[0m\u001b[0;34m\u001b[0m\u001b[0;34m\u001b[0m\u001b[0m\n\u001b[0m\u001b[1;32m    890\u001b[0m         for hook in itertools.chain(\n\u001b[1;32m    891\u001b[0m                 \u001b[0m_global_forward_hooks\u001b[0m\u001b[0;34m.\u001b[0m\u001b[0mvalues\u001b[0m\u001b[0;34m(\u001b[0m\u001b[0;34m)\u001b[0m\u001b[0;34m,\u001b[0m\u001b[0;34m\u001b[0m\u001b[0;34m\u001b[0m\u001b[0m\n",
            "\u001b[0;32m<ipython-input-30-a52d747d5de4>\u001b[0m in \u001b[0;36mforward\u001b[0;34m(self, x)\u001b[0m\n\u001b[1;32m     33\u001b[0m   \u001b[0;32mdef\u001b[0m \u001b[0mforward\u001b[0m\u001b[0;34m(\u001b[0m\u001b[0mself\u001b[0m\u001b[0;34m,\u001b[0m \u001b[0mx\u001b[0m\u001b[0;34m)\u001b[0m\u001b[0;34m:\u001b[0m\u001b[0;34m\u001b[0m\u001b[0;34m\u001b[0m\u001b[0m\n\u001b[1;32m     34\u001b[0m     \u001b[0ml\u001b[0m \u001b[0;34m=\u001b[0m \u001b[0mself\u001b[0m\u001b[0;34m.\u001b[0m\u001b[0mencoder\u001b[0m\u001b[0;34m(\u001b[0m\u001b[0mx\u001b[0m\u001b[0;34m)\u001b[0m\u001b[0;34m\u001b[0m\u001b[0;34m\u001b[0m\u001b[0m\n\u001b[0;32m---> 35\u001b[0;31m     \u001b[0moutput\u001b[0m \u001b[0;34m=\u001b[0m \u001b[0mself\u001b[0m\u001b[0;34m.\u001b[0m\u001b[0mdecoder\u001b[0m\u001b[0;34m(\u001b[0m\u001b[0ml\u001b[0m\u001b[0;34m)\u001b[0m\u001b[0;34m\u001b[0m\u001b[0;34m\u001b[0m\u001b[0m\n\u001b[0m\u001b[1;32m     36\u001b[0m     \u001b[0;32mreturn\u001b[0m \u001b[0moutput\u001b[0m\u001b[0;34m\u001b[0m\u001b[0;34m\u001b[0m\u001b[0m\n\u001b[1;32m     37\u001b[0m \u001b[0;34m\u001b[0m\u001b[0m\n",
            "\u001b[0;32m<ipython-input-30-a52d747d5de4>\u001b[0m in \u001b[0;36mdecoder\u001b[0;34m(self, x)\u001b[0m\n\u001b[1;32m     21\u001b[0m \u001b[0;34m\u001b[0m\u001b[0m\n\u001b[1;32m     22\u001b[0m   \u001b[0;32mdef\u001b[0m \u001b[0mdecoder\u001b[0m\u001b[0;34m(\u001b[0m\u001b[0mself\u001b[0m\u001b[0;34m,\u001b[0m \u001b[0mx\u001b[0m\u001b[0;34m)\u001b[0m\u001b[0;34m:\u001b[0m\u001b[0;34m\u001b[0m\u001b[0;34m\u001b[0m\u001b[0m\n\u001b[0;32m---> 23\u001b[0;31m     \u001b[0mx\u001b[0m \u001b[0;34m=\u001b[0m \u001b[0mself\u001b[0m\u001b[0;34m.\u001b[0m\u001b[0mconv2\u001b[0m\u001b[0;34m(\u001b[0m\u001b[0mx\u001b[0m\u001b[0;34m)\u001b[0m\u001b[0;34m\u001b[0m\u001b[0;34m\u001b[0m\u001b[0m\n\u001b[0m\u001b[1;32m     24\u001b[0m     \u001b[0mx\u001b[0m \u001b[0;34m=\u001b[0m \u001b[0mx\u001b[0m\u001b[0;34m.\u001b[0m\u001b[0mview\u001b[0m\u001b[0;34m(\u001b[0m\u001b[0mx\u001b[0m\u001b[0;34m.\u001b[0m\u001b[0msize\u001b[0m\u001b[0;34m(\u001b[0m\u001b[0;36m0\u001b[0m\u001b[0;34m)\u001b[0m\u001b[0;34m,\u001b[0m \u001b[0;36m64\u001b[0m\u001b[0;34m,\u001b[0m \u001b[0;36m14\u001b[0m\u001b[0;34m,\u001b[0m \u001b[0;36m14\u001b[0m\u001b[0;34m)\u001b[0m \u001b[0;31m# fill x into shape 64x14x14 with all 0 entries\u001b[0m\u001b[0;34m\u001b[0m\u001b[0;34m\u001b[0m\u001b[0m\n\u001b[1;32m     25\u001b[0m     \u001b[0mx\u001b[0m \u001b[0;34m=\u001b[0m \u001b[0mF\u001b[0m\u001b[0;34m.\u001b[0m\u001b[0mrelu\u001b[0m\u001b[0;34m(\u001b[0m\u001b[0mx\u001b[0m\u001b[0;34m)\u001b[0m\u001b[0;34m\u001b[0m\u001b[0;34m\u001b[0m\u001b[0m\n",
            "\u001b[0;32m/usr/local/lib/python3.7/dist-packages/torch/nn/modules/module.py\u001b[0m in \u001b[0;36m_call_impl\u001b[0;34m(self, *input, **kwargs)\u001b[0m\n\u001b[1;32m    887\u001b[0m             \u001b[0mresult\u001b[0m \u001b[0;34m=\u001b[0m \u001b[0mself\u001b[0m\u001b[0;34m.\u001b[0m\u001b[0m_slow_forward\u001b[0m\u001b[0;34m(\u001b[0m\u001b[0;34m*\u001b[0m\u001b[0minput\u001b[0m\u001b[0;34m,\u001b[0m \u001b[0;34m**\u001b[0m\u001b[0mkwargs\u001b[0m\u001b[0;34m)\u001b[0m\u001b[0;34m\u001b[0m\u001b[0;34m\u001b[0m\u001b[0m\n\u001b[1;32m    888\u001b[0m         \u001b[0;32melse\u001b[0m\u001b[0;34m:\u001b[0m\u001b[0;34m\u001b[0m\u001b[0;34m\u001b[0m\u001b[0m\n\u001b[0;32m--> 889\u001b[0;31m             \u001b[0mresult\u001b[0m \u001b[0;34m=\u001b[0m \u001b[0mself\u001b[0m\u001b[0;34m.\u001b[0m\u001b[0mforward\u001b[0m\u001b[0;34m(\u001b[0m\u001b[0;34m*\u001b[0m\u001b[0minput\u001b[0m\u001b[0;34m,\u001b[0m \u001b[0;34m**\u001b[0m\u001b[0mkwargs\u001b[0m\u001b[0;34m)\u001b[0m\u001b[0;34m\u001b[0m\u001b[0;34m\u001b[0m\u001b[0m\n\u001b[0m\u001b[1;32m    890\u001b[0m         for hook in itertools.chain(\n\u001b[1;32m    891\u001b[0m                 \u001b[0m_global_forward_hooks\u001b[0m\u001b[0;34m.\u001b[0m\u001b[0mvalues\u001b[0m\u001b[0;34m(\u001b[0m\u001b[0;34m)\u001b[0m\u001b[0;34m,\u001b[0m\u001b[0;34m\u001b[0m\u001b[0;34m\u001b[0m\u001b[0m\n",
            "\u001b[0;32m/usr/local/lib/python3.7/dist-packages/torch/nn/modules/conv.py\u001b[0m in \u001b[0;36mforward\u001b[0;34m(self, input)\u001b[0m\n\u001b[1;32m    397\u001b[0m \u001b[0;34m\u001b[0m\u001b[0m\n\u001b[1;32m    398\u001b[0m     \u001b[0;32mdef\u001b[0m \u001b[0mforward\u001b[0m\u001b[0;34m(\u001b[0m\u001b[0mself\u001b[0m\u001b[0;34m,\u001b[0m \u001b[0minput\u001b[0m\u001b[0;34m:\u001b[0m \u001b[0mTensor\u001b[0m\u001b[0;34m)\u001b[0m \u001b[0;34m->\u001b[0m \u001b[0mTensor\u001b[0m\u001b[0;34m:\u001b[0m\u001b[0;34m\u001b[0m\u001b[0;34m\u001b[0m\u001b[0m\n\u001b[0;32m--> 399\u001b[0;31m         \u001b[0;32mreturn\u001b[0m \u001b[0mself\u001b[0m\u001b[0;34m.\u001b[0m\u001b[0m_conv_forward\u001b[0m\u001b[0;34m(\u001b[0m\u001b[0minput\u001b[0m\u001b[0;34m,\u001b[0m \u001b[0mself\u001b[0m\u001b[0;34m.\u001b[0m\u001b[0mweight\u001b[0m\u001b[0;34m,\u001b[0m \u001b[0mself\u001b[0m\u001b[0;34m.\u001b[0m\u001b[0mbias\u001b[0m\u001b[0;34m)\u001b[0m\u001b[0;34m\u001b[0m\u001b[0;34m\u001b[0m\u001b[0m\n\u001b[0m\u001b[1;32m    400\u001b[0m \u001b[0;34m\u001b[0m\u001b[0m\n\u001b[1;32m    401\u001b[0m \u001b[0;32mclass\u001b[0m \u001b[0mConv3d\u001b[0m\u001b[0;34m(\u001b[0m\u001b[0m_ConvNd\u001b[0m\u001b[0;34m)\u001b[0m\u001b[0;34m:\u001b[0m\u001b[0;34m\u001b[0m\u001b[0;34m\u001b[0m\u001b[0m\n",
            "\u001b[0;32m/usr/local/lib/python3.7/dist-packages/torch/nn/modules/conv.py\u001b[0m in \u001b[0;36m_conv_forward\u001b[0;34m(self, input, weight, bias)\u001b[0m\n\u001b[1;32m    394\u001b[0m                             _pair(0), self.dilation, self.groups)\n\u001b[1;32m    395\u001b[0m         return F.conv2d(input, weight, bias, self.stride,\n\u001b[0;32m--> 396\u001b[0;31m                         self.padding, self.dilation, self.groups)\n\u001b[0m\u001b[1;32m    397\u001b[0m \u001b[0;34m\u001b[0m\u001b[0m\n\u001b[1;32m    398\u001b[0m     \u001b[0;32mdef\u001b[0m \u001b[0mforward\u001b[0m\u001b[0;34m(\u001b[0m\u001b[0mself\u001b[0m\u001b[0;34m,\u001b[0m \u001b[0minput\u001b[0m\u001b[0;34m:\u001b[0m \u001b[0mTensor\u001b[0m\u001b[0;34m)\u001b[0m \u001b[0;34m->\u001b[0m \u001b[0mTensor\u001b[0m\u001b[0;34m:\u001b[0m\u001b[0;34m\u001b[0m\u001b[0;34m\u001b[0m\u001b[0m\n",
            "\u001b[0;31mRuntimeError\u001b[0m: Expected 4-dimensional input for 4-dimensional weight [64, 32, 4, 4], but got 2-dimensional input of size [512, 256] instead"
          ]
        }
      ]
    },
    {
      "cell_type": "markdown",
      "metadata": {
        "id": "cS-e-5Kjthth"
      },
      "source": [
        "Testing the autocoder"
      ]
    },
    {
      "cell_type": "code",
      "metadata": {
        "id": "P19BrBTxtjox"
      },
      "source": [
        "ae_test_loader = torch.utils.data.DataLoader(\n",
        "    datasets.CIFAR10('../data', train=False, transform=transforms.Compose([\n",
        "                       transforms.ToTensor()])),\n",
        "    batch_size=512, shuffle=True, **kwargs)"
      ],
      "execution_count": null,
      "outputs": []
    },
    {
      "cell_type": "code",
      "metadata": {
        "id": "EqelEbcdtlp4"
      },
      "source": [
        "model_auto1.eval() \n",
        "test_loss_ae1 = 0\n",
        "\n",
        "with torch.no_grad(): # no need to compute gradients; also saves time and memory\n",
        "    \n",
        "    # iterate through test set\n",
        "    for data, _ in ae_test_loader:\n",
        "        data = data.to(device)\n",
        "        \n",
        "        # forward pass\n",
        "        output_ae1 = model_auto(data)\n",
        "        \n",
        "        # bookkeeping\n",
        "        #test_loss_ae1 += nn.MSELoss(output_ae1, data, reduction='mean').item()*data.size(0)\n",
        "        test_loss_ae1 += F.binary_cross_entropy(output_ae1, data, reduction='mean').item()*data.size(0)  # loss\n",
        "\n",
        "\n",
        "test_loss_ae1 /= len(test_loader.dataset)\n",
        "\n",
        "print('\\nTest set: Average Loss: {:.4f}\\n'.format(\n",
        "    test_loss_ae1))"
      ],
      "execution_count": null,
      "outputs": []
    },
    {
      "cell_type": "code",
      "metadata": {
        "id": "6mMyK4zntq--"
      },
      "source": [
        "plt.close('All')\n",
        "plt.figure(figsize=(20,5))\n",
        "for i in range(10):\n",
        "    plt.subplot(2,10,i+1)\n",
        "    plt.imshow(data[i,0].cpu())\n",
        "    plt.axis('off')\n",
        "    plt.subplot(2,10,10+i+1)\n",
        "    plt.imshow(output_ae1[i,0].detach().cpu())\n",
        "    plt.axis('off')\n",
        "    \n",
        "plt.show()"
      ],
      "execution_count": null,
      "outputs": []
    }
  ]
}