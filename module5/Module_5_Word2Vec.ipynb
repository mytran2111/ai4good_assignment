{
  "nbformat": 4,
  "nbformat_minor": 0,
  "metadata": {
    "colab": {
      "name": "Module 5 - Word2Vec.ipynb",
      "provenance": []
    },
    "kernelspec": {
      "display_name": "Python 3",
      "name": "python3"
    },
    "language_info": {
      "name": "python"
    }
  },
  "cells": [
    {
      "cell_type": "markdown",
      "metadata": {
        "id": "VGHbh8ZkOA60"
      },
      "source": [
        "# A list of tasks\n",
        "\n",
        "\n",
        "1.   Make sure everything runs correctly with the original test_sentence that we implemented during the TA-led exercise.\n",
        "2.   Find a way to replace 3 with the CONTEXT_SIZE variable in the `predict` function of the `class CBOWModeler(nn.Module)`. Examine the performance of the model when you change `CONTEXT_SIZE=3` to `CONTEXT_SIZE=4`\n",
        "3.  Run this model with the Obama dataset (on the google drive, in the `10 - data` directory; let me know if you have any issues with this). Here is how you build an array out of it:\n",
        "        with open(\"speeches_combined.txt\", \"r\") as f:\n",
        "            text=f.read()\n",
        "\n"
      ]
    },
    {
      "cell_type": "markdown",
      "metadata": {
        "id": "-aubtlU6JSWT"
      },
      "source": [
        "4. Run the model by reading in the following dataset with the following helper functions:\n",
        "```\n",
        "    test_sentence = read_data('https://www.gutenberg.org/files/57884/57884-0.txt')\n",
        "    def read_data(file_path):\n",
        "        tokenizer = RegexpTokenizer(r'\\w+')\n",
        "        data = urllib.request.urlopen(file_path)\n",
        "        data = data.read().decode('utf8')\n",
        "        tokenized_data = word_tokenize(data)\n",
        "        stop_words = set(stopwords.words('english'))\n",
        "        stop_words.update(['.',',',':',';','(',')','#','--','...','\"'])\n",
        "        cleaned_words = [ i for i in tokenized_data if i not in stop_words ]\n",
        "        return(cleaned_words)\n",
        "```\n"
      ]
    },
    {
      "cell_type": "markdown",
      "metadata": {
        "id": "2FXNmQerJnWR"
      },
      "source": [
        "5. Projecting your embedding into lower-dimenesional space by using t-SNE. Here are a couple references:\n",
        "\n",
        "* https://towardsdatascience.com/an-introduction-to-t-sne-with-python-example-5a3a293108d1\n",
        "* https://scikit-learn.org/stable/modules/generated/sklearn.manifold.TSNE.html\n",
        "* Some sample code for this task:\n",
        "\n",
        "```\n",
        "model.write_embedding_to_file('embeddings.npy') # defined in class CBOWModeler(nn.Module):\n",
        "X = np.load('embeddings.npy')\n",
        "from sklearn.manifold import TSNE\n",
        "X = np.load('embeddings.npy') \n",
        "    # with the test_sentence from example 1, X should be EMBEDDING_DIM x 195\n",
        "X_embedded = TSNE(n_components=2).fit_transform(X)\n",
        "    # with the test_sentence from example 1, X_embedded should be 2 x 195\n",
        "X_embedded.shape\n",
        "plt.scatter(X_embedded[:,0],X_embedded[:,1])\n",
        "```"
      ]
    },
    {
      "cell_type": "markdown",
      "metadata": {
        "id": "STfQiVM7K2he"
      },
      "source": [
        "6. You just implemented the CBOW algorithm. Try to implement a skip-gram instead! (Answer in the tutorial link.)\n",
        "\n",
        "7. Tutorial on the implementation of BERT: https://mccormickml.com/2019/07/22/BERT-fine-tuning/#11-using-colab-gpu-for-training"
      ]
    },
    {
      "cell_type": "markdown",
      "metadata": {
        "id": "oPe5cOn9FITq"
      },
      "source": [
        "# Word2Vec\n",
        "Code from here: https://srijithr.gitlab.io/post/word2vec/ \\\n",
        "Author: Srijith Rajamohan based off the work by Robert Guthrie \\\n",
        "*Another, almost identical, Word2Vec Script provided by the lecturer: https://pytorch.org/tutorials/beginner/nlp/word_embeddings_tutorial.html*"
      ]
    },
    {
      "cell_type": "code",
      "metadata": {
        "id": "oTrijRdePy1j"
      },
      "source": [
        "# Import all the packages that we will need\n",
        "import torch\n",
        "import torch.nn as nn\n",
        "import torch.nn.functional as F\n",
        "import torch.optim as optim\n",
        "import numpy as np\n",
        "import urllib.request\n",
        "from nltk.tokenize import RegexpTokenizer\n",
        "from nltk.corpus import stopwords\n",
        "from nltk import word_tokenize\n",
        "import sklearn\n",
        "from sklearn.cluster import KMeans\n",
        "from sklearn.metrics.pairwise import euclidean_distances"
      ],
      "execution_count": null,
      "outputs": []
    },
    {
      "cell_type": "code",
      "metadata": {
        "id": "k9kT6tUeODEl"
      },
      "source": [
        "# Author: Srijith Rajamohan based off the work by Robert Guthrie\n",
        "\n",
        "torch.manual_seed(1) # Sets the seed for generating random numbers. Returns a torch.Generator object.\n",
        "\n",
        "CONTEXT_SIZE = 3 # how many words are we using to predict the \"target?\"; \n",
        "    # PS: good coding practise to capitalize \"global variables\" like that!\n",
        "EMBEDDING_DIM = 10 # size of the vector representing each input word\n",
        "\n",
        "test_sentence = \"\"\"Empathy for the poor may not come easily to people who never experienced it. They may blame the victims and insist their predicament can be overcome through determination and hard work.\n",
        "But they may not realize that extreme poverty can be psychologically and physically incapacitating — a perpetual cycle of bad diets, health care and education exacerbated by the shaming and self-fulfilling prophecies that define it in the public imagination.\n",
        "Gordon Parks — perhaps more than any artist — saw poverty as “the most savage of all human afflictions” and realized the power of empathy to help us understand it. It was neither an abstract problem nor political symbol, but something he endured growing up destitute in rural Kansas and having spent years documenting poverty throughout the world, including the United States.\n",
        "That sensitivity informed “Freedom’s Fearful Foe: Poverty,” his celebrated photo essay published in Life magazine in June 1961. He took readers into the lives of a Brazilian boy, Flavio da Silva, and his family, who lived in the ramshackle Catacumba favela in the hills outside Rio de Janeiro. These stark photographs are the subject of a new book, “Gordon Parks: The Flavio Story” (Steidl/The Gordon Parks Foundation), which accompanies a traveling exhibition co-organized by the Ryerson Image Centre in Toronto, where it opens this week, and the J. Paul Getty Museum. Edited with texts by the exhibition’s co-curators, Paul Roth and Amanda Maddox, the book also includes a recent interview with Mr. da Silva and essays by Beatriz Jaguaribe, Maria Alice Rezende de Carvalho and Sérgio Burgi.\n",
        "\"\"\".split()\n",
        "\n",
        "# test_sentence # previous paragraph converted to a list of words"
      ],
      "execution_count": null,
      "outputs": []
    },
    {
      "cell_type": "code",
      "metadata": {
        "colab": {
          "base_uri": "https://localhost:8080/"
        },
        "id": "FMD833SlQOgb",
        "outputId": "6ea58da9-2d84-4d9f-d340-549a535ef888"
      },
      "source": [
        "# format test_sentence into entries of [input, label] (ie [ [context_word_1, ..., context_word_CONTEXT_SIZE], target_word] )\n",
        "ngrams = []\n",
        "for i in range(len(test_sentence) - CONTEXT_SIZE):\n",
        "    tup = [test_sentence[j] for j in np.arange(i , i + CONTEXT_SIZE) ]\n",
        "    ngrams.append((tup,test_sentence[i + CONTEXT_SIZE]))\n",
        "# print the first 3, just so you can see what they look like\n",
        "print(ngrams)"
      ],
      "execution_count": null,
      "outputs": [
        {
          "output_type": "stream",
          "text": [
            "[(['Empathy', 'for', 'the'], 'poor'), (['for', 'the', 'poor'], 'may'), (['the', 'poor', 'may'], 'not'), (['poor', 'may', 'not'], 'come'), (['may', 'not', 'come'], 'easily'), (['not', 'come', 'easily'], 'to'), (['come', 'easily', 'to'], 'people'), (['easily', 'to', 'people'], 'who'), (['to', 'people', 'who'], 'never'), (['people', 'who', 'never'], 'experienced'), (['who', 'never', 'experienced'], 'it.'), (['never', 'experienced', 'it.'], 'They'), (['experienced', 'it.', 'They'], 'may'), (['it.', 'They', 'may'], 'blame'), (['They', 'may', 'blame'], 'the'), (['may', 'blame', 'the'], 'victims'), (['blame', 'the', 'victims'], 'and'), (['the', 'victims', 'and'], 'insist'), (['victims', 'and', 'insist'], 'their'), (['and', 'insist', 'their'], 'predicament'), (['insist', 'their', 'predicament'], 'can'), (['their', 'predicament', 'can'], 'be'), (['predicament', 'can', 'be'], 'overcome'), (['can', 'be', 'overcome'], 'through'), (['be', 'overcome', 'through'], 'determination'), (['overcome', 'through', 'determination'], 'and'), (['through', 'determination', 'and'], 'hard'), (['determination', 'and', 'hard'], 'work.'), (['and', 'hard', 'work.'], 'But'), (['hard', 'work.', 'But'], 'they'), (['work.', 'But', 'they'], 'may'), (['But', 'they', 'may'], 'not'), (['they', 'may', 'not'], 'realize'), (['may', 'not', 'realize'], 'that'), (['not', 'realize', 'that'], 'extreme'), (['realize', 'that', 'extreme'], 'poverty'), (['that', 'extreme', 'poverty'], 'can'), (['extreme', 'poverty', 'can'], 'be'), (['poverty', 'can', 'be'], 'psychologically'), (['can', 'be', 'psychologically'], 'and'), (['be', 'psychologically', 'and'], 'physically'), (['psychologically', 'and', 'physically'], 'incapacitating'), (['and', 'physically', 'incapacitating'], '—'), (['physically', 'incapacitating', '—'], 'a'), (['incapacitating', '—', 'a'], 'perpetual'), (['—', 'a', 'perpetual'], 'cycle'), (['a', 'perpetual', 'cycle'], 'of'), (['perpetual', 'cycle', 'of'], 'bad'), (['cycle', 'of', 'bad'], 'diets,'), (['of', 'bad', 'diets,'], 'health'), (['bad', 'diets,', 'health'], 'care'), (['diets,', 'health', 'care'], 'and'), (['health', 'care', 'and'], 'education'), (['care', 'and', 'education'], 'exacerbated'), (['and', 'education', 'exacerbated'], 'by'), (['education', 'exacerbated', 'by'], 'the'), (['exacerbated', 'by', 'the'], 'shaming'), (['by', 'the', 'shaming'], 'and'), (['the', 'shaming', 'and'], 'self-fulfilling'), (['shaming', 'and', 'self-fulfilling'], 'prophecies'), (['and', 'self-fulfilling', 'prophecies'], 'that'), (['self-fulfilling', 'prophecies', 'that'], 'define'), (['prophecies', 'that', 'define'], 'it'), (['that', 'define', 'it'], 'in'), (['define', 'it', 'in'], 'the'), (['it', 'in', 'the'], 'public'), (['in', 'the', 'public'], 'imagination.'), (['the', 'public', 'imagination.'], 'Gordon'), (['public', 'imagination.', 'Gordon'], 'Parks'), (['imagination.', 'Gordon', 'Parks'], '—'), (['Gordon', 'Parks', '—'], 'perhaps'), (['Parks', '—', 'perhaps'], 'more'), (['—', 'perhaps', 'more'], 'than'), (['perhaps', 'more', 'than'], 'any'), (['more', 'than', 'any'], 'artist'), (['than', 'any', 'artist'], '—'), (['any', 'artist', '—'], 'saw'), (['artist', '—', 'saw'], 'poverty'), (['—', 'saw', 'poverty'], 'as'), (['saw', 'poverty', 'as'], '“the'), (['poverty', 'as', '“the'], 'most'), (['as', '“the', 'most'], 'savage'), (['“the', 'most', 'savage'], 'of'), (['most', 'savage', 'of'], 'all'), (['savage', 'of', 'all'], 'human'), (['of', 'all', 'human'], 'afflictions”'), (['all', 'human', 'afflictions”'], 'and'), (['human', 'afflictions”', 'and'], 'realized'), (['afflictions”', 'and', 'realized'], 'the'), (['and', 'realized', 'the'], 'power'), (['realized', 'the', 'power'], 'of'), (['the', 'power', 'of'], 'empathy'), (['power', 'of', 'empathy'], 'to'), (['of', 'empathy', 'to'], 'help'), (['empathy', 'to', 'help'], 'us'), (['to', 'help', 'us'], 'understand'), (['help', 'us', 'understand'], 'it.'), (['us', 'understand', 'it.'], 'It'), (['understand', 'it.', 'It'], 'was'), (['it.', 'It', 'was'], 'neither'), (['It', 'was', 'neither'], 'an'), (['was', 'neither', 'an'], 'abstract'), (['neither', 'an', 'abstract'], 'problem'), (['an', 'abstract', 'problem'], 'nor'), (['abstract', 'problem', 'nor'], 'political'), (['problem', 'nor', 'political'], 'symbol,'), (['nor', 'political', 'symbol,'], 'but'), (['political', 'symbol,', 'but'], 'something'), (['symbol,', 'but', 'something'], 'he'), (['but', 'something', 'he'], 'endured'), (['something', 'he', 'endured'], 'growing'), (['he', 'endured', 'growing'], 'up'), (['endured', 'growing', 'up'], 'destitute'), (['growing', 'up', 'destitute'], 'in'), (['up', 'destitute', 'in'], 'rural'), (['destitute', 'in', 'rural'], 'Kansas'), (['in', 'rural', 'Kansas'], 'and'), (['rural', 'Kansas', 'and'], 'having'), (['Kansas', 'and', 'having'], 'spent'), (['and', 'having', 'spent'], 'years'), (['having', 'spent', 'years'], 'documenting'), (['spent', 'years', 'documenting'], 'poverty'), (['years', 'documenting', 'poverty'], 'throughout'), (['documenting', 'poverty', 'throughout'], 'the'), (['poverty', 'throughout', 'the'], 'world,'), (['throughout', 'the', 'world,'], 'including'), (['the', 'world,', 'including'], 'the'), (['world,', 'including', 'the'], 'United'), (['including', 'the', 'United'], 'States.'), (['the', 'United', 'States.'], 'That'), (['United', 'States.', 'That'], 'sensitivity'), (['States.', 'That', 'sensitivity'], 'informed'), (['That', 'sensitivity', 'informed'], '“Freedom’s'), (['sensitivity', 'informed', '“Freedom’s'], 'Fearful'), (['informed', '“Freedom’s', 'Fearful'], 'Foe:'), (['“Freedom’s', 'Fearful', 'Foe:'], 'Poverty,”'), (['Fearful', 'Foe:', 'Poverty,”'], 'his'), (['Foe:', 'Poverty,”', 'his'], 'celebrated'), (['Poverty,”', 'his', 'celebrated'], 'photo'), (['his', 'celebrated', 'photo'], 'essay'), (['celebrated', 'photo', 'essay'], 'published'), (['photo', 'essay', 'published'], 'in'), (['essay', 'published', 'in'], 'Life'), (['published', 'in', 'Life'], 'magazine'), (['in', 'Life', 'magazine'], 'in'), (['Life', 'magazine', 'in'], 'June'), (['magazine', 'in', 'June'], '1961.'), (['in', 'June', '1961.'], 'He'), (['June', '1961.', 'He'], 'took'), (['1961.', 'He', 'took'], 'readers'), (['He', 'took', 'readers'], 'into'), (['took', 'readers', 'into'], 'the'), (['readers', 'into', 'the'], 'lives'), (['into', 'the', 'lives'], 'of'), (['the', 'lives', 'of'], 'a'), (['lives', 'of', 'a'], 'Brazilian'), (['of', 'a', 'Brazilian'], 'boy,'), (['a', 'Brazilian', 'boy,'], 'Flavio'), (['Brazilian', 'boy,', 'Flavio'], 'da'), (['boy,', 'Flavio', 'da'], 'Silva,'), (['Flavio', 'da', 'Silva,'], 'and'), (['da', 'Silva,', 'and'], 'his'), (['Silva,', 'and', 'his'], 'family,'), (['and', 'his', 'family,'], 'who'), (['his', 'family,', 'who'], 'lived'), (['family,', 'who', 'lived'], 'in'), (['who', 'lived', 'in'], 'the'), (['lived', 'in', 'the'], 'ramshackle'), (['in', 'the', 'ramshackle'], 'Catacumba'), (['the', 'ramshackle', 'Catacumba'], 'favela'), (['ramshackle', 'Catacumba', 'favela'], 'in'), (['Catacumba', 'favela', 'in'], 'the'), (['favela', 'in', 'the'], 'hills'), (['in', 'the', 'hills'], 'outside'), (['the', 'hills', 'outside'], 'Rio'), (['hills', 'outside', 'Rio'], 'de'), (['outside', 'Rio', 'de'], 'Janeiro.'), (['Rio', 'de', 'Janeiro.'], 'These'), (['de', 'Janeiro.', 'These'], 'stark'), (['Janeiro.', 'These', 'stark'], 'photographs'), (['These', 'stark', 'photographs'], 'are'), (['stark', 'photographs', 'are'], 'the'), (['photographs', 'are', 'the'], 'subject'), (['are', 'the', 'subject'], 'of'), (['the', 'subject', 'of'], 'a'), (['subject', 'of', 'a'], 'new'), (['of', 'a', 'new'], 'book,'), (['a', 'new', 'book,'], '“Gordon'), (['new', 'book,', '“Gordon'], 'Parks:'), (['book,', '“Gordon', 'Parks:'], 'The'), (['“Gordon', 'Parks:', 'The'], 'Flavio'), (['Parks:', 'The', 'Flavio'], 'Story”'), (['The', 'Flavio', 'Story”'], '(Steidl/The'), (['Flavio', 'Story”', '(Steidl/The'], 'Gordon'), (['Story”', '(Steidl/The', 'Gordon'], 'Parks'), (['(Steidl/The', 'Gordon', 'Parks'], 'Foundation),'), (['Gordon', 'Parks', 'Foundation),'], 'which'), (['Parks', 'Foundation),', 'which'], 'accompanies'), (['Foundation),', 'which', 'accompanies'], 'a'), (['which', 'accompanies', 'a'], 'traveling'), (['accompanies', 'a', 'traveling'], 'exhibition'), (['a', 'traveling', 'exhibition'], 'co-organized'), (['traveling', 'exhibition', 'co-organized'], 'by'), (['exhibition', 'co-organized', 'by'], 'the'), (['co-organized', 'by', 'the'], 'Ryerson'), (['by', 'the', 'Ryerson'], 'Image'), (['the', 'Ryerson', 'Image'], 'Centre'), (['Ryerson', 'Image', 'Centre'], 'in'), (['Image', 'Centre', 'in'], 'Toronto,'), (['Centre', 'in', 'Toronto,'], 'where'), (['in', 'Toronto,', 'where'], 'it'), (['Toronto,', 'where', 'it'], 'opens'), (['where', 'it', 'opens'], 'this'), (['it', 'opens', 'this'], 'week,'), (['opens', 'this', 'week,'], 'and'), (['this', 'week,', 'and'], 'the'), (['week,', 'and', 'the'], 'J.'), (['and', 'the', 'J.'], 'Paul'), (['the', 'J.', 'Paul'], 'Getty'), (['J.', 'Paul', 'Getty'], 'Museum.'), (['Paul', 'Getty', 'Museum.'], 'Edited'), (['Getty', 'Museum.', 'Edited'], 'with'), (['Museum.', 'Edited', 'with'], 'texts'), (['Edited', 'with', 'texts'], 'by'), (['with', 'texts', 'by'], 'the'), (['texts', 'by', 'the'], 'exhibition’s'), (['by', 'the', 'exhibition’s'], 'co-curators,'), (['the', 'exhibition’s', 'co-curators,'], 'Paul'), (['exhibition’s', 'co-curators,', 'Paul'], 'Roth'), (['co-curators,', 'Paul', 'Roth'], 'and'), (['Paul', 'Roth', 'and'], 'Amanda'), (['Roth', 'and', 'Amanda'], 'Maddox,'), (['and', 'Amanda', 'Maddox,'], 'the'), (['Amanda', 'Maddox,', 'the'], 'book'), (['Maddox,', 'the', 'book'], 'also'), (['the', 'book', 'also'], 'includes'), (['book', 'also', 'includes'], 'a'), (['also', 'includes', 'a'], 'recent'), (['includes', 'a', 'recent'], 'interview'), (['a', 'recent', 'interview'], 'with'), (['recent', 'interview', 'with'], 'Mr.'), (['interview', 'with', 'Mr.'], 'da'), (['with', 'Mr.', 'da'], 'Silva'), (['Mr.', 'da', 'Silva'], 'and'), (['da', 'Silva', 'and'], 'essays'), (['Silva', 'and', 'essays'], 'by'), (['and', 'essays', 'by'], 'Beatriz'), (['essays', 'by', 'Beatriz'], 'Jaguaribe,'), (['by', 'Beatriz', 'Jaguaribe,'], 'Maria'), (['Beatriz', 'Jaguaribe,', 'Maria'], 'Alice'), (['Jaguaribe,', 'Maria', 'Alice'], 'Rezende'), (['Maria', 'Alice', 'Rezende'], 'de'), (['Alice', 'Rezende', 'de'], 'Carvalho'), (['Rezende', 'de', 'Carvalho'], 'and'), (['de', 'Carvalho', 'and'], 'Sérgio'), (['Carvalho', 'and', 'Sérgio'], 'Burgi.')]\n"
          ],
          "name": "stdout"
        }
      ]
    },
    {
      "cell_type": "code",
      "metadata": {
        "colab": {
          "base_uri": "https://localhost:8080/"
        },
        "id": "Xu1iYrn-QpFP",
        "outputId": "4d4fd528-c9eb-43e2-f997-4c5e81d53f08"
      },
      "source": [
        "# What and how many unique words do we have?\n",
        "vocab = set(test_sentence)\n",
        "print(\"Length of vocabulary\",len(vocab))"
      ],
      "execution_count": null,
      "outputs": [
        {
          "output_type": "stream",
          "text": [
            "Length of vocabulary 195\n"
          ],
          "name": "stdout"
        }
      ]
    },
    {
      "cell_type": "code",
      "metadata": {
        "id": "03qfegeVQxrf"
      },
      "source": [
        "# give each unique word an integer label\n",
        "word_to_ix = {word: i for i, word in enumerate(vocab)}\n",
        "# word_to_ix "
      ],
      "execution_count": null,
      "outputs": []
    },
    {
      "cell_type": "markdown",
      "metadata": {
        "id": "lXGRmkwJIJ8c"
      },
      "source": [
        "Some helper functions"
      ]
    },
    {
      "cell_type": "code",
      "metadata": {
        "id": "Z0GDe3XNIJZ3"
      },
      "source": [
        "def get_key(word_id): # indices from 0 to 194 inclusively\n",
        "    for key,val in word_to_ix.items():\n",
        "        if(val == word_id):\n",
        "            return(key)\n",
        "\n",
        "def cluster_embeddings(filename,nclusters):\n",
        "    X = np.load(filename)\n",
        "    kmeans = KMeans(n_clusters=nclusters, random_state=0).fit(X)\n",
        "    center = kmeans.cluster_centers_\n",
        "    distances = euclidean_distances(X,center)\n",
        "\n",
        "    for i in np.arange(0,distances.shape[1]):\n",
        "        word_id = np.argmin(distances[:,i])\n",
        "        #print(word_id)\n",
        "        get_key(word_id)"
      ],
      "execution_count": null,
      "outputs": []
    },
    {
      "cell_type": "markdown",
      "metadata": {
        "id": "Dh4LCyVOIMQZ"
      },
      "source": [
        "Create your model:"
      ]
    },
    {
      "cell_type": "code",
      "metadata": {
        "id": "fkHnPxMTRd2E"
      },
      "source": [
        "class CBOWModeler(nn.Module):\n",
        "\n",
        "    def __init__(self, vocab_size, embedding_dim, context_size):\n",
        "        super(CBOWModeler, self).__init__()\n",
        "        self.embeddings = nn.Embedding(vocab_size, embedding_dim)\n",
        "        self.linear1 = nn.Linear(context_size * embedding_dim, 128)\n",
        "        self.linear2 = nn.Linear(128, vocab_size)\n",
        "\n",
        "    def forward(self, inputs):\n",
        "        embeds = self.embeddings(inputs).view((1, -1))  # -1 implies size inferred for that index from the size of the data\n",
        "        # Embedding function: https://pytorch.org/docs/stable/generated/torch.nn.Embedding.html\n",
        "        #print(np.mean(np.mean(self.linear2.weight.data.numpy())))\n",
        "        out1 = F.relu(self.linear1(embeds)) # output of first layer\n",
        "        out2 = self.linear2(out1)           # output of second layer\n",
        "        #print(embeds)\n",
        "        log_probs = F.log_softmax(out2, dim=1) # REMINDER: this is a LOG of a probability (hence the -ve values!)\n",
        "        return log_probs\n",
        "\n",
        "    def predict(self,input):\n",
        "        new_input=[]\n",
        "        context_idxs = torch.tensor([word_to_ix[w] for w in input], dtype=torch.long)\n",
        "        res = self.forward(context_idxs)\n",
        "        res_arg = torch.argmax(res)\n",
        "        new_word=get_key(res_arg)\n",
        "        #for i in range(CONTEXT_SIZE-2): # 0, 1\n",
        "         #   new_input.append(input[i+1]) #input[1], input[2]\n",
        "        new_input.append(input[1])\n",
        "        new_input.append(input[2])\n",
        "        new_input.append(new_word)\n",
        "        print(new_word)\n",
        "        return(new_input)\n",
        "\n",
        "    # def freeze_layer(self,layer):\n",
        "    #     for name,child in model.named_children():\n",
        "    #         print(name,child)\n",
        "    #         if(name == layer):\n",
        "    #             for names,params in child.named_parameters():\n",
        "    #                 print(names,params)\n",
        "    #                 print(params.size())\n",
        "    #                 params.requires_grad= False\n",
        "\n",
        "    # def print_layer_parameters(self):\n",
        "    #     for name,child in model.named_children():\n",
        "    #             print(name,child)\n",
        "    #             for names,params in child.named_parameters():\n",
        "    #                 print(names,params)\n",
        "    #                 print(params.size())\n",
        "\n",
        "    def write_embedding_to_file(self,filename):\n",
        "        for i in self.embeddings.parameters():\n",
        "            weights = i.data.numpy()\n",
        "        np.save(filename,weights)\n"
      ],
      "execution_count": null,
      "outputs": []
    },
    {
      "cell_type": "code",
      "metadata": {
        "id": "vSEiQr0rvH1W"
      },
      "source": [
        "losses = []\n",
        "loss_function = nn.NLLLoss()\n",
        "model = CBOWModeler(len(vocab), EMBEDDING_DIM, CONTEXT_SIZE)\n",
        "optimizer = optim.SGD(model.parameters(), lr=0.001)"
      ],
      "execution_count": null,
      "outputs": []
    },
    {
      "cell_type": "code",
      "metadata": {
        "id": "ft_b7IyXvbR8"
      },
      "source": [
        "NUM_EPOCHS=1\n",
        "for epoch in range(NUM_EPOCHS):\n",
        "    total_loss = 0\n",
        "    #------- Embedding layers are trained as well here ----#\n",
        "    #lookup_tensor = torch.tensor([word_to_ix[\"poor\"]], dtype=torch.long)\n",
        "    #hello_embed = model.embeddings(lookup_tensor)\n",
        "    #print(hello_embed)\n",
        "    # -----------------------------------------------------#\n",
        "\n",
        "    for context, target in ngrams:\n",
        "\n",
        "        # Step 1. Prepare the inputs to be passed to the model (i.e, turn the words\n",
        "        # into integer indices and wrap them in tensors)\n",
        "        context_idxs = torch.tensor([word_to_ix[w] for w in context], dtype=torch.long)\n",
        "        #print(\"Context id\",context_idxs)\n",
        "\n",
        "        # Step 2. Recall that torch *accumulates* gradients. Before passing in a\n",
        "        # new instance, you need to zero out the gradients from the old\n",
        "        # instance\n",
        "        model.zero_grad()\n",
        "\n",
        "        # Step 3. Run the forward pass, getting log probabilities over next\n",
        "        # words\n",
        "        log_probs = model(context_idxs)\n",
        "        #print(f\"log probs: {log_probs}\")\n",
        "\n",
        "        # Step 4. Compute your loss function. (Again, Torch wants the target\n",
        "        # word wrapped in a tensor)\n",
        "        loss = loss_function(log_probs, torch.tensor([word_to_ix[target]], dtype=torch.long))\n",
        "        #print(f\"loss: {loss}\")\n",
        "\n",
        "        # Step 5. Do the backward pass and update the gradient\n",
        "        loss.backward()\n",
        "        optimizer.step()\n",
        "\n",
        "        # Get the Python number from a 1-element Tensor by calling tensor.item()\n",
        "        total_loss += loss.item()\n",
        "    # print(f\"total_loss for epoch {epoch}: {total_loss}\")\n",
        "    losses.append(total_loss)"
      ],
      "execution_count": null,
      "outputs": []
    },
    {
      "cell_type": "code",
      "metadata": {
        "colab": {
          "base_uri": "https://localhost:8080/",
          "height": 312
        },
        "id": "d02KO3XpzVsx",
        "outputId": "98c35714-7cac-4d9a-decf-c0831add48db"
      },
      "source": [
        "import matplotlib.pyplot as plt\n",
        "plt.plot(range(NUM_EPOCHS),losses)\n",
        "plt.xlabel(\"Epoch\")\n",
        "plt.ylabel(\"Loss\")\n",
        "plt.title(\"Loss as a function of epoch\")"
      ],
      "execution_count": null,
      "outputs": [
        {
          "output_type": "execute_result",
          "data": {
            "text/plain": [
              "Text(0.5, 1.0, 'Loss as a function of epoch')"
            ]
          },
          "metadata": {
            "tags": []
          },
          "execution_count": 342
        },
        {
          "output_type": "display_data",
          "data": {
            "image/png": "[encoded data removed]",
            "text/plain": [
              "<Figure size 432x288 with 1 Axes>"
            ]
          },
          "metadata": {
            "tags": []
          }
        }
      ]
    },
    {
      "cell_type": "code",
      "metadata": {
        "colab": {
          "base_uri": "https://localhost:8080/"
        },
        "id": "OdD1KhKnObEM",
        "outputId": "d8aeacea-1dd7-4552-ef24-4152f3a4388b"
      },
      "source": [
        "WORDS_GENERATED=10\n",
        "next_iter=['of','all','human']\n",
        "for i in range(WORDS_GENERATED):\n",
        "    next_iter=model.predict(next_iter)"
      ],
      "execution_count": null,
      "outputs": [
        {
          "output_type": "stream",
          "text": [
            "spent\n",
            "public\n",
            "savage\n",
            "That\n",
            "Silva\n",
            "These\n",
            "Parks\n",
            "public\n",
            "who\n",
            "Centre\n"
          ],
          "name": "stdout"
        }
      ]
    },
    {
      "cell_type": "markdown",
      "metadata": {
        "id": "ZTIIl2TLPPmf"
      },
      "source": [
        "Interesting problem to think about: is there a way to account for the beginning (non-Name capital letters) and end (punctuation marks) of a sentence? And should you be removing quotation marks and comas?"
      ]
    },
    {
      "cell_type": "code",
      "metadata": {
        "id": "rff0o2L970HP"
      },
      "source": [
        "model.write_embedding_to_file('embeddings.npy') # defined in class CBOWModeler(nn.Module):\n",
        "X = np.load('embeddings.npy')\n",
        "from sklearn.manifold import TSNE\n",
        "X = np.load('embeddings.npy') \n",
        "    # with the test_sentence from example 1, X should be EMBEDDING_DIM x 195\n",
        "X_embedded = TSNE(n_components=2).fit_transform(X)\n",
        "    # with the test_sentence from example 1, X_embedded should be 2 x 195\n",
        "X_embedded.shape\n",
        "plt.scatter(X_embedded[:,0],X_embedded[:,1])"
      ],
      "execution_count": null,
      "outputs": []
    }
  ]
}