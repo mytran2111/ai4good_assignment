{
 "cells": [
  {
   "cell_type": "markdown",
   "id": "65c9572b",
   "metadata": {},
   "source": [
    "Script and text from (which may be blocked for you, which is why I copy-pasted it all here): https://medium.com/analytics-vidhya/multi-armed-bandits-part-1-epsilon-greedy-algorithm-with-python-code-534b9e2abc9"
   ]
  },
  {
   "cell_type": "markdown",
   "id": "2abc3d67",
   "metadata": {},
   "source": [
    "_Semantic: each \"bandit\" can be thought of as an action_"
   ]
  },
  {
   "cell_type": "markdown",
   "id": "5190ecec",
   "metadata": {},
   "source": [
    "# The Algorithm\n",
    "The idea behind it is pretty simple. You want to exploit your best option most of the time but you also want to explore a bit in case there’s something even better.\\\n",
    "In our example, every Saturday you would randomly sample a number between 0 and 1. If that number is less than 𝛆 then you pick a restaurant at random, if it is not you pick your favourite restaurant so far. Therefore, 𝛆 defines how much time you will spend exploring new stuff.\\\n",
    "In pseudo-code (and using bandits instead of restaurants):"
   ]
  },
  {
   "cell_type": "markdown",
   "id": "57c226e1",
   "metadata": {},
   "source": [
    "_Note that this specific bandit algorithm uses Q(At) = Rt, which is different from the example in your notes that uses the Averaging Learning Rule to define the value function_"
   ]
  },
  {
   "cell_type": "markdown",
   "id": "4efe9287",
   "metadata": {},
   "source": [
    "```\n",
    "Choose epsilon; # exploration probability\n",
    "Choose n; # number of iterations\n",
    "for i = 1 to n do:\n",
    "  p = pick a random number from 0 to 1 \n",
    "  if p < epsilon:\n",
    "       current_bandit = pick bandit at random  # explore\n",
    "  else:\n",
    "       current_bandit = pick best bandit so far  # exploit\n",
    "  reward = current_bandit.pull_arm()\n",
    "  \n",
    "  Update estimation for what rewards the current bandit gives\n",
    "```"
   ]
  },
  {
   "cell_type": "markdown",
   "id": "066fc83e",
   "metadata": {},
   "source": [
    "OK, that sounds simple enough. How do we pick 𝛆? \\\n",
    "One option would be to set it to a constant value. Possible values could be 0.01, 0.05, 0.1. This, however, means that even after you’ve explored all the possible options a considerable number of times, and therefore have a pretty good idea of what rewards you should expect from each one, you will still spend time doing random stuff. This is like knowing that you hate that pizza restaurant for sure but still giving it a go every now and then. Under the assumption that it hasn’t changed in any way, this would make for an unnecessarily sub-optimal dining experience.\n",
    "Another option is to make 𝛆 depend on the number of actions (iterations) we’ve taken so far. The idea is as we collect more data we want to reduce the amount of time we spend exploring as we already know what rewards to expect from each bandit. One such strategy is to choose 𝛆 = 1 / #actions.\\\n",
    "# Show Me The Code\n",
    "Before we start writing code let’s think about how to structure our data. We have Bandits that generate rewards when we pull their arm and we also have an Agent that can interact with them and collect information using a specific approach (e.g. epsilon-greedy).\\\n",
    "The Bandit class defined below will generate rewards according to a Normal distribution."
   ]
  },
  {
   "cell_type": "code",
   "execution_count": 90,
   "id": "6266757d",
   "metadata": {},
   "outputs": [],
   "source": [
    "from uuid import uuid4\n",
    "import numpy as np\n",
    "from typing import List, Tuple\n",
    "import matplotlib\n",
    "import matplotlib.pyplot as plt\n",
    "import logging\n",
    "logger=logging.getLogger()\n",
    "from collections import defaultdict"
   ]
  },
  {
   "cell_type": "markdown",
   "id": "6dbdea35",
   "metadata": {},
   "source": [
    "Before we start writing code let’s think about how to structure our data. We have Bandits that generate rewards when we pull their arm and we also have an Agent that can interact with them and collect information using a specific approach (e.g. epsilon-greedy).\n",
    "The Bandit class defined below will generate rewards according to a Normal distribution."
   ]
  },
  {
   "cell_type": "markdown",
   "id": "d3c7ac09",
   "metadata": {},
   "source": [
    "_Ex: If bandit = action 1, m = q*(1), refer to slide 25 of your notes to see the Distribution_"
   ]
  },
  {
   "cell_type": "code",
   "execution_count": 91,
   "id": "11bc3cc0",
   "metadata": {},
   "outputs": [],
   "source": [
    "class Bandit:\n",
    "    def __init__(self,m):\n",
    "        \"\"\"\n",
    "        Stimulates bandit.\n",
    "        Args:\n",
    "            m (float): True mean, 0 in class notes\n",
    "        \"\"\"\n",
    "        self.m=m\n",
    "        self.id=uuid4()\n",
    "    def pull(self):\n",
    "        \"\"\"\n",
    "        Stimulate pulling the arm of the bandit.\n",
    "        Normal distribution with mu=self.m and sigma=1\n",
    "        \"\"\"\n",
    "        reward=np.random.randn()+self.m # results in N~(m, 1)\n",
    "            # np.random.randn() generates a random float sampled from a univariate \"normal\" distribution\n",
    "            # with a mean of 0 and variance of 1\n",
    "        return reward"
   ]
  },
  {
   "cell_type": "code",
   "execution_count": 92,
   "id": "82a7ddf8",
   "metadata": {},
   "outputs": [],
   "source": [
    "mean_reward=3\n",
    "n_samples=50"
   ]
  },
  {
   "cell_type": "code",
   "execution_count": 93,
   "id": "e2be5899",
   "metadata": {},
   "outputs": [],
   "source": [
    "rewards=[]"
   ]
  },
  {
   "cell_type": "code",
   "execution_count": 94,
   "id": "38794bff",
   "metadata": {},
   "outputs": [
    {
     "name": "stdout",
     "output_type": "stream",
     "text": [
      "Bandit ID: <__main__.Bandit object at 0x7fbad0629910>\n",
      "Bandit reward: 4.119516982513705\n",
      "Bandit ID: <__main__.Bandit object at 0x7fbab0777e80>\n",
      "Bandit reward: 1.8415102022945804\n",
      "Bandit ID: <__main__.Bandit object at 0x7fbad0629910>\n",
      "Bandit reward: 3.1891015921695796\n",
      "Bandit ID: <__main__.Bandit object at 0x7fbaa0805ee0>\n",
      "Bandit reward: 3.856857093308798\n",
      "Bandit ID: <__main__.Bandit object at 0x7fbaa09b63a0>\n",
      "Bandit reward: 3.8180655675766952\n",
      "Bandit ID: <__main__.Bandit object at 0x7fbad0619ac0>\n",
      "Bandit reward: 3.922829278194939\n",
      "Bandit ID: <__main__.Bandit object at 0x7fbad0619460>\n",
      "Bandit reward: 2.5699977504942195\n",
      "Bandit ID: <__main__.Bandit object at 0x7fbad0629c40>\n",
      "Bandit reward: 3.000982011395991\n",
      "Bandit ID: <__main__.Bandit object at 0x7fba700e37c0>\n",
      "Bandit reward: 2.253169363762887\n",
      "Bandit ID: <__main__.Bandit object at 0x7fbad0619f10>\n",
      "Bandit reward: 3.157665467468453\n",
      "Bandit ID: <__main__.Bandit object at 0x7fbad0619430>\n",
      "Bandit reward: 3.1274457501875426\n",
      "Bandit ID: <__main__.Bandit object at 0x7fbad06195e0>\n",
      "Bandit reward: 3.780796525109749\n",
      "Bandit ID: <__main__.Bandit object at 0x7fbac1c470a0>\n",
      "Bandit reward: 5.411104960666693\n",
      "Bandit ID: <__main__.Bandit object at 0x7fbac1c47910>\n",
      "Bandit reward: 3.795596544259792\n",
      "Bandit ID: <__main__.Bandit object at 0x7fba98091910>\n",
      "Bandit reward: 2.233465100361761\n",
      "Bandit ID: <__main__.Bandit object at 0x7fbad0619400>\n",
      "Bandit reward: 4.600283177975106\n",
      "Bandit ID: <__main__.Bandit object at 0x7fbad06190a0>\n",
      "Bandit reward: 2.205073634822701\n",
      "Bandit ID: <__main__.Bandit object at 0x7fbad0619460>\n",
      "Bandit reward: 3.495522875753733\n",
      "Bandit ID: <__main__.Bandit object at 0x7fbab0777bb0>\n",
      "Bandit reward: 2.5529588947204687\n",
      "Bandit ID: <__main__.Bandit object at 0x7fbaa0805ee0>\n",
      "Bandit reward: 2.7033786195144325\n",
      "Bandit ID: <__main__.Bandit object at 0x7fba70105250>\n",
      "Bandit reward: 3.128075633479865\n",
      "Bandit ID: <__main__.Bandit object at 0x7fbab07c9d30>\n",
      "Bandit reward: 2.8016251643900167\n",
      "Bandit ID: <__main__.Bandit object at 0x7fbab07b83d0>\n",
      "Bandit reward: 3.6046878977159236\n",
      "Bandit ID: <__main__.Bandit object at 0x7fbab07c92e0>\n",
      "Bandit reward: 2.1523302818272483\n",
      "Bandit ID: <__main__.Bandit object at 0x7fbaa09b64f0>\n",
      "Bandit reward: 4.80069314037494\n",
      "Bandit ID: <__main__.Bandit object at 0x7fbad0629c40>\n",
      "Bandit reward: 4.2558391991962505\n",
      "Bandit ID: <__main__.Bandit object at 0x7fbad0619460>\n",
      "Bandit reward: 2.930058840217285\n",
      "Bandit ID: <__main__.Bandit object at 0x7fbad06194c0>\n",
      "Bandit reward: 3.4978291870087785\n",
      "Bandit ID: <__main__.Bandit object at 0x7fbad06190d0>\n",
      "Bandit reward: 4.700746312850286\n",
      "Bandit ID: <__main__.Bandit object at 0x7fba98091e80>\n",
      "Bandit reward: 2.7751125680292907\n",
      "Bandit ID: <__main__.Bandit object at 0x7fbac1c47730>\n",
      "Bandit reward: 0.995980602395766\n",
      "Bandit ID: <__main__.Bandit object at 0x7fbab07b88b0>\n",
      "Bandit reward: 2.1898632052867253\n",
      "Bandit ID: <__main__.Bandit object at 0x7fbab07b8490>\n",
      "Bandit reward: 3.7694343871050826\n",
      "Bandit ID: <__main__.Bandit object at 0x7fbab07b8340>\n",
      "Bandit reward: 3.0543032983472753\n",
      "Bandit ID: <__main__.Bandit object at 0x7fbab07b8940>\n",
      "Bandit reward: 1.3979132825237555\n",
      "Bandit ID: <__main__.Bandit object at 0x7fbab07d23a0>\n",
      "Bandit reward: 2.317557794127156\n",
      "Bandit ID: <__main__.Bandit object at 0x7fbab07d2550>\n",
      "Bandit reward: 3.289614987820185\n",
      "Bandit ID: <__main__.Bandit object at 0x7fbab07d2730>\n",
      "Bandit reward: 3.6888369867827384\n",
      "Bandit ID: <__main__.Bandit object at 0x7fbab07d28e0>\n",
      "Bandit reward: 2.9435452234857413\n",
      "Bandit ID: <__main__.Bandit object at 0x7fbab07b8910>\n",
      "Bandit reward: 3.6549518707325346\n",
      "Bandit ID: <__main__.Bandit object at 0x7fbab07b8310>\n",
      "Bandit reward: 1.5946875964364655\n",
      "Bandit ID: <__main__.Bandit object at 0x7fbab07b8790>\n",
      "Bandit reward: 3.7424404511463183\n",
      "Bandit ID: <__main__.Bandit object at 0x7fbab07b8700>\n",
      "Bandit reward: 3.5412783805231696\n",
      "Bandit ID: <__main__.Bandit object at 0x7fbab07b8550>\n",
      "Bandit reward: 2.411278229099187\n",
      "Bandit ID: <__main__.Bandit object at 0x7fbab07b8490>\n",
      "Bandit reward: 0.8833268477571514\n",
      "Bandit ID: <__main__.Bandit object at 0x7fbab07b84c0>\n",
      "Bandit reward: 2.729590376246313\n",
      "Bandit ID: <__main__.Bandit object at 0x7fbab07b8670>\n",
      "Bandit reward: 3.292810225880966\n",
      "Bandit ID: <__main__.Bandit object at 0x7fbab07b82b0>\n",
      "Bandit reward: 4.00068845203736\n",
      "Bandit ID: <__main__.Bandit object at 0x7fba70105250>\n",
      "Bandit reward: 3.0147306797322333\n",
      "Bandit ID: <__main__.Bandit object at 0x7fbab07b8790>\n",
      "Bandit reward: 3.2469557331552688\n"
     ]
    }
   ],
   "source": [
    "for i in range(n_samples):\n",
    "    test_bandit=Bandit(mean_reward)\n",
    "    tmp_reward=test_bandit.pull()\n",
    "    print(f\"Bandit ID: {test_bandit}\")\n",
    "    print(f\"Bandit reward: {test_bandit.pull()}\")\n",
    "    rewards.append(tmp_reward)"
   ]
  },
  {
   "cell_type": "code",
   "execution_count": 95,
   "id": "205e06a8",
   "metadata": {
    "scrolled": true
   },
   "outputs": [
    {
     "data": {
      "text/plain": [
       "[<matplotlib.lines.Line2D at 0x7fbaa09dc820>]"
      ]
     },
     "execution_count": 95,
     "metadata": {},
     "output_type": "execute_result"
    },
    {
     "data": {
      "image/png": "[encoded data removed]",
      "text/plain": [
       "<Figure size 432x288 with 1 Axes>"
      ]
     },
     "metadata": {
      "needs_background": "light"
     },
     "output_type": "display_data"
    }
   ],
   "source": [
    "plt.plot(range(n_samples),rewards)"
   ]
  },
  {
   "cell_type": "code",
   "execution_count": 96,
   "id": "d9abcf10",
   "metadata": {},
   "outputs": [
    {
     "data": {
      "text/plain": [
       "(array([ 6.,  3.,  6., 10.,  6.,  4.,  8.,  2.,  2.,  3.]),\n",
       " array([1.41504175, 1.78623411, 2.15742647, 2.52861883, 2.89981119,\n",
       "        3.27100355, 3.64219591, 4.01338827, 4.38458063, 4.75577299,\n",
       "        5.12696535]),\n",
       " <BarContainer object of 10 artists>)"
      ]
     },
     "execution_count": 96,
     "metadata": {},
     "output_type": "execute_result"
    },
    {
     "data": {
      "image/png": "[encoded data removed]",
      "text/plain": [
       "<Figure size 432x288 with 1 Axes>"
      ]
     },
     "metadata": {
      "needs_background": "light"
     },
     "output_type": "display_data"
    }
   ],
   "source": [
    "plt.hist(rewards)"
   ]
  },
  {
   "cell_type": "markdown",
   "id": "0fdef025",
   "metadata": {},
   "source": [
    "Then we define the epsilon-greedy agent class. Given a list of bandits and 𝛆, the agent can choose from where to get rewards in each step:"
   ]
  },
  {
   "cell_type": "code",
   "execution_count": 97,
   "id": "041ee00b",
   "metadata": {},
   "outputs": [],
   "source": [
    "class EpsilonGreedyAgent:\n",
    "    def __init__(self, bandits: List[Bandit], epsilon: float = None):\n",
    "        self.bandits = bandits\n",
    "        self.epsilon = epsilon\n",
    "        self.rewards_log = BanditRewardsLog()\n",
    "\n",
    "    def _get_random_bandit(self) -> Bandit:\n",
    "        return np.random.choice(self.bandits)\n",
    "\n",
    "    def _get_current_best_bandit(self) -> Bandit:\n",
    "        estimates = []\n",
    "        for bandit in self.bandits:\n",
    "            bandit_record = self.rewards_log[bandit]\n",
    "            if not bandit_record['actions']:\n",
    "                estimates.append(0)\n",
    "            else:\n",
    "                estimates.append(bandit_record['reward'] / bandit_record['actions'])\n",
    "\n",
    "        return self.bandits[np.argmax(estimates)]\n",
    "\n",
    "    def _choose_bandit(self) -> Bandit:\n",
    "        epsilon = self.epsilon or 1 / (1 + self.rewards_log.total_actions)\n",
    "\n",
    "        p = np.random.uniform(0, 1, 1)\n",
    "        if p < epsilon:\n",
    "            bandit = self._get_random_bandit()\n",
    "        else:\n",
    "            bandit = self._get_current_best_bandit()\n",
    "\n",
    "        return bandit\n",
    "\n",
    "    def take_action(self):\n",
    "        current_bandit = self._choose_bandit()\n",
    "        reward = current_bandit.pull()\n",
    "        self.rewards_log.record_action(current_bandit, reward)\n",
    "        return reward\n",
    "\n",
    "    def take_actions(self, iter):\n",
    "        for _ in range(iter):\n",
    "            self.take_action()"
   ]
  },
  {
   "cell_type": "markdown",
   "id": "11e7cd3c",
   "metadata": {},
   "source": [
    "There’s an additional helper class for keeping track of the rewards that were generated from each bandit."
   ]
  },
  {
   "cell_type": "code",
   "execution_count": 98,
   "id": "c9cffdbc",
   "metadata": {},
   "outputs": [],
   "source": [
    "class BanditRewardsLog:\n",
    "    def __init__(self):\n",
    "        self.total_actions = 0\n",
    "        self.total_rewards = 0\n",
    "        self.all_rewards = []\n",
    "        self.record = defaultdict(lambda: dict(actions=0, reward=0))\n",
    "\n",
    "    def record_action(self, bandit, reward):\n",
    "        self.total_actions += 1\n",
    "        self.total_rewards += reward\n",
    "        self.all_rewards.append(reward)\n",
    "        self.record[bandit.id]['actions'] += 1\n",
    "        self.record[bandit.id]['reward'] += reward\n",
    "\n",
    "    def __getitem__(self, bandit):\n",
    "        return self.record[bandit.id]"
   ]
  },
  {
   "cell_type": "code",
   "execution_count": 99,
   "id": "702658a9",
   "metadata": {},
   "outputs": [],
   "source": [
    "    def __init__(self, bandits: List[Bandit], epsilon: float = None):\n",
    "        self.bandits = bandits\n",
    "        self.epsilon = epsilon\n",
    "        self.rewards_log = BanditRewardsLog()"
   ]
  },
  {
   "cell_type": "markdown",
   "id": "0bbd9bb9",
   "metadata": {},
   "source": [
    "We now have everything we need to run some simulations and see which 𝛆 works better.\n",
    "# To Exploit or Not To Exploit\n",
    "It is relatively straightforward to compare the different options for 𝛆 using our code from the previous section."
   ]
  },
  {
   "cell_type": "markdown",
   "id": "ddc6a781",
   "metadata": {},
   "source": [
    "    agents = []\n",
    "    bandits = [Bandit(m) for m in bandits_true_means]"
   ]
  },
  {
   "cell_type": "code",
   "execution_count": 100,
   "id": "a66cfdae",
   "metadata": {},
   "outputs": [],
   "source": [
    "def compare_epsilons(\n",
    "    epsilons: List[float],\n",
    "    bandits_true_means: List[float],\n",
    "    iterations: int,\n",
    ") -> Tuple[List[EpsilonGreedyAgent], List[float]]:\n",
    "    \"\"\"\n",
    "    Compare different epsilons for epsilon-greedy algorithm.\n",
    "    \"\"\"\n",
    "    agents = []\n",
    "    bandits = [Bandit(m) for m in bandits_true_means]\n",
    "\n",
    "    for epsilon in epsilons:\n",
    "        logger.info(\"Running epsilon-greedy for epsilon = %f\", epsilon)\n",
    "        agent = EpsilonGreedyAgent(bandits=bandits, epsilon=epsilon)\n",
    "        agent.take_actions(iterations)\n",
    "        agents.append(agent)\n",
    "\n",
    "    return agents, epsilons"
   ]
  },
  {
   "cell_type": "code",
   "execution_count": 101,
   "id": "e42886c7",
   "metadata": {
    "scrolled": true
   },
   "outputs": [
    {
     "data": {
      "image/png": "[encoded data removed]",
      "text/plain": [
       "<Figure size 432x288 with 1 Axes>"
      ]
     },
     "metadata": {
      "needs_background": "light"
     },
     "output_type": "display_data"
    }
   ],
   "source": [
    "epsilons = [0.01, 0.05, 0.1, 0]\n",
    "bandits_means = [3, 4, 5]\n",
    "\n",
    "iterations = 50\n",
    "agents, _ =  compare_epsilons(epsilons, bandits_means, iterations)\n",
    "\n",
    "all_rewards = [agent.rewards_log.all_rewards for agent in agents]\n",
    "\n",
    "\n",
    "for i in range(len(agents)):\n",
    "    plt.plot(\n",
    "        np.cumsum(all_rewards[i]), \n",
    "        label=\"epsilon = {}\".format(epsilons[i] or '1 / iter'),\n",
    "    )\n",
    "\n",
    "plt.xlabel(\"iteration\")\n",
    "plt.ylabel(\"total rewards\")\n",
    "plt.legend()\n",
    "plt.show()"
   ]
  },
  {
   "cell_type": "markdown",
   "id": "2d99c008",
   "metadata": {},
   "source": [
    "We can see that in this scenario reducing the exploration rate as we collect more data yields the best result. This intuitively makes sense as there’s no reason to continue exploring once we are fairly certain on the kinds of rewards each bandit produces."
   ]
  },
  {
   "cell_type": "code",
   "execution_count": null,
   "id": "aa765857",
   "metadata": {},
   "outputs": [],
   "source": []
  }
 ],
 "metadata": {
  "kernelspec": {
   "display_name": "Python 3",
   "language": "python",
   "name": "python3"
  },
  "language_info": {
   "codemirror_mode": {
    "name": "ipython",
    "version": 3
   },
   "file_extension": ".py",
   "mimetype": "text/x-python",
   "name": "python",
   "nbconvert_exporter": "python",
   "pygments_lexer": "ipython3",
   "version": "3.8.8"
  }
 },
 "nbformat": 4,
 "nbformat_minor": 5
}
