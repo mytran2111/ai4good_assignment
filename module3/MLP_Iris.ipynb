{
  "nbformat": 4,
  "nbformat_minor": 0,
  "metadata": {
    "colab": {
      "name": "MLP_Iris.ipynb",
      "provenance": [],
      "collapsed_sections": []
    },
    "kernelspec": {
      "name": "python3",
      "display_name": "Python 3"
    },
    "language_info": {
      "name": "python"
    },
    "accelerator": "GPU"
  },
  "cells": [
    {
      "cell_type": "code",
      "metadata": {
        "id": "OEBNCiWr_kxP"
      },
      "source": [
        "#Steps to follow:\n",
        "# 1) Load the IRIS dataset\n",
        "# 2) Normalize the features\n",
        "# 3) Visualized the data\n",
        "# 4) Design the model\n",
        "# 5) Initialize the model, optimizer, and define the loss function\n",
        "# 6) split data into trainset and testset\n",
        "# 7) train and test the model"
      ],
      "execution_count": null,
      "outputs": []
    },
    {
      "cell_type": "code",
      "metadata": {
        "id": "Pxf-Es0OK-in"
      },
      "source": [
        "import numpy as np\n",
        "from sklearn.datasets import load_iris\n",
        "from sklearn.preprocessing import MinMaxScaler\n",
        "#https://scikit-learn.org/stable/modules/generated/sklearn.datasets.load_iris.html\n",
        "\n",
        "\n",
        "iris = load_iris()\n",
        "X = iris['data']\n",
        "y = iris['target']\n",
        "names = iris['target_names']\n",
        "feature_names = iris['feature_names']\n",
        "\n",
        "#Normalize : removing the mean and scaling to unit variance: z = (x - min) / (max-min)\n",
        "scaler = MinMaxScaler()\n",
        "X_scaled = scaler.fit_transform(X)"
      ],
      "execution_count": null,
      "outputs": []
    },
    {
      "cell_type": "code",
      "metadata": {
        "id": "dR8_7svmmLbl"
      },
      "source": [
        "X_scaled"
      ],
      "execution_count": null,
      "outputs": []
    },
    {
      "cell_type": "code",
      "metadata": {
        "id": "U5PPE0E-UZp3",
        "colab": {
          "base_uri": "https://localhost:8080/",
          "height": 388
        },
        "outputId": "88503acf-c6de-450e-b3bd-905cb6a55277"
      },
      "source": [
        "import matplotlib.pyplot as plt\n",
        "\n",
        "#Visualize the Data\n",
        "fig, (ax1, ax2) = plt.subplots(1, 2, figsize=(16, 6))\n",
        "\n",
        "#plot the target based on the first two features: Sepal Width and Sepal Length\n",
        "for target, target_name in enumerate(names):\n",
        "    X_plot = X[y == target] #separate data accoding to the targer's values to assign a color to them\n",
        "    ax1.plot(X_plot[:, 0], X_plot[:, 1], \n",
        "             linestyle='none', \n",
        "             marker='o', \n",
        "             label=target_name)\n",
        "ax1.set_xlabel(feature_names[0])\n",
        "ax1.set_ylabel(feature_names[1])\n",
        "ax1.axis('equal')\n",
        "ax1.legend();\n",
        "\n",
        "#plot the target based on the first two features: Petal Width and Petal Length\n",
        "for target, target_name in enumerate(names):\n",
        "    X_plot = X[y == target]\n",
        "    ax2.plot(X_plot[:, 2], X_plot[:, 3], \n",
        "             linestyle='none', \n",
        "             marker='o', \n",
        "             label=target_name)\n",
        "ax2.set_xlabel(feature_names[2])\n",
        "ax2.set_ylabel(feature_names[3])\n",
        "ax2.axis('equal')\n",
        "ax2.legend();\n"
      ],
      "execution_count": null,
      "outputs": [
        {
          "output_type": "display_data",
          "data": {
            "image/png": "[encoded data removed]",
            "text/plain": [
              "<Figure size 1152x432 with 2 Axes>"
            ]
          },
          "metadata": {
            "tags": [],
            "needs_background": "light"
          }
        }
      ]
    },
    {
      "cell_type": "code",
      "metadata": {
        "id": "oQJmnfS5Vb7s"
      },
      "source": [
        "\n",
        "import torch\n",
        "import torch.nn.functional as F\n",
        "import torch.nn as nn\n",
        "from torch.autograd import Variable\n",
        "\n",
        "if torch.cuda.is_available():\n",
        "    device = torch.device('cuda')\n",
        "else:\n",
        "    device = torch.device('cpu')\n",
        "\n",
        "class Model(nn.Module):\n",
        "    def __init__(self, input_dim):\n",
        "        super(Model, self).__init__()\n",
        "        self.layer1 = nn.Linear(input_dim, 60)\n",
        "        self.layer2 = nn.Linear(60, 60)\n",
        "        self.layer3 = nn.Linear(60, 3)\n",
        "        \n",
        "    def forward(self, x):\n",
        "        x = F.relu(self.layer1(x))\n",
        "        x = F.relu(self.layer2(x))\n",
        "        x = F.softmax(self.layer3(x), dim=1)\n",
        "        return x\n",
        "\n",
        "\n",
        "\n",
        "model = Model(input_dim=4).to(device)\n",
        "optimizer = torch.optim.Adam(model.parameters(), lr=0.001)\n",
        "loss_fn = nn.CrossEntropyLoss()"
      ],
      "execution_count": null,
      "outputs": []
    },
    {
      "cell_type": "code",
      "metadata": {
        "id": "Wi7aZnGAIZ8w"
      },
      "source": [
        "from sklearn.model_selection import train_test_split\n",
        "# Split the data set into training and testing\n",
        "X_train, X_test, y_train, y_test = train_test_split(\n",
        "    X_scaled, y, test_size=0.2, random_state=2)\n",
        "\n",
        "\n",
        "X_train = Variable(torch.tensor(X_train)).float().to(device)\n",
        "y_train = Variable(torch.tensor(y_train)).long().to(device)\n",
        "X_test  = Variable(torch.tensor(X_test)).float().to(device)\n",
        "y_test  = Variable(torch.tensor(y_test)).long().to(device)\n",
        "\n"
      ],
      "execution_count": null,
      "outputs": []
    },
    {
      "cell_type": "code",
      "metadata": {
        "colab": {
          "base_uri": "https://localhost:8080/"
        },
        "id": "zxVWttp0V5II",
        "outputId": "fb8200f3-d4ee-48e6-ad93-baeb3cb76897"
      },
      "source": [
        "import tqdm\n",
        "\n",
        "EPOCHS  = 10\n",
        "accuracy_train = [] \n",
        "accuracy_test = []\n",
        "\n",
        "for epoch in tqdm.trange(EPOCHS):\n",
        "    y_pred = model(X_train)\n",
        "    loss = loss_fn(y_pred, y_train)\n",
        "    \n",
        "    #zero_grad() clears old gradients from the last step (otherwise you’d just accumulate the gradients from all loss.backward() calls).\n",
        "    #loss.backward() computes the derivative of the loss w.r.t. the parameters (or anything requiring gradients) using backpropagation.\n",
        "    #opt.step() causes the optimizer to take a step based on the gradients of the parameters.\n",
        "\n",
        "    optimizer.zero_grad()\n",
        "    loss.backward()\n",
        "    optimizer.step()\n",
        "    \n",
        "    with torch.no_grad(): #disable gradient calculation\n",
        "      \n",
        "      train_correct = (torch.argmax(y_pred, dim=1) == y_train).type(torch.FloatTensor)\n",
        "      accuracy_train.append(train_correct.mean())\n",
        "      y_pred = model(X_test)\n",
        "      test_correct = (torch.argmax(y_pred, dim=1) == y_test).type(torch.FloatTensor)\n",
        "      accuracy_test.append(test_correct.mean())\n"
      ],
      "execution_count": null,
      "outputs": [
        {
          "output_type": "stream",
          "text": [
            "100%|██████████| 10/10 [00:00<00:00, 511.94it/s]\n"
          ],
          "name": "stderr"
        }
      ]
    },
    {
      "cell_type": "code",
      "metadata": {
        "id": "tqWJb3MzNhuj",
        "colab": {
          "base_uri": "https://localhost:8080/"
        },
        "outputId": "d528e782-d9de-41de-fe47-75c54d7edd50"
      },
      "source": [
        "y_pred"
      ],
      "execution_count": null,
      "outputs": [
        {
          "output_type": "execute_result",
          "data": {
            "text/plain": [
              "tensor([[1.0000e+00, 4.2843e-06, 1.0326e-25],\n",
              "        [9.9998e-01, 2.0044e-05, 4.3178e-24],\n",
              "        [2.3089e-08, 2.9697e-06, 1.0000e+00],\n",
              "        [9.9997e-01, 2.6204e-05, 2.3152e-24],\n",
              "        [9.9999e-01, 1.0552e-05, 1.8620e-24],\n",
              "        [7.7521e-08, 1.1064e-04, 9.9989e-01],\n",
              "        [9.9987e-01, 1.3295e-04, 2.2365e-23],\n",
              "        [2.5917e-09, 8.6505e-07, 1.0000e+00],\n",
              "        [8.3361e-10, 4.9507e-08, 1.0000e+00],\n",
              "        [9.9991e-01, 9.4001e-05, 1.2651e-23],\n",
              "        [1.0000e+00, 1.4176e-06, 8.5669e-28],\n",
              "        [9.9999e-01, 5.6377e-06, 3.8212e-25],\n",
              "        [9.9999e-01, 9.7452e-06, 5.3791e-26],\n",
              "        [1.0000e+00, 2.6076e-06, 1.8727e-27],\n",
              "        [3.3578e-05, 9.9997e-01, 1.7261e-07],\n",
              "        [2.2149e-05, 9.9973e-01, 2.4864e-04],\n",
              "        [9.8242e-01, 1.7582e-02, 4.2140e-19],\n",
              "        [9.6727e-06, 9.9999e-01, 6.2571e-09],\n",
              "        [1.2826e-10, 2.3241e-09, 1.0000e+00],\n",
              "        [1.0532e-05, 9.9999e-01, 1.1327e-07],\n",
              "        [6.3759e-05, 3.4621e-01, 6.5373e-01],\n",
              "        [3.0199e-06, 1.0000e+00, 4.3840e-09],\n",
              "        [5.2052e-09, 3.4261e-07, 1.0000e+00],\n",
              "        [1.3580e-05, 9.9999e-01, 1.4440e-07],\n",
              "        [4.2550e-06, 9.9999e-01, 1.8621e-06],\n",
              "        [9.9998e-01, 1.5491e-05, 2.2887e-24],\n",
              "        [9.9999e-01, 7.1172e-06, 1.9864e-25],\n",
              "        [3.1190e-05, 4.0681e-02, 9.5929e-01],\n",
              "        [1.0000e+00, 4.4868e-06, 4.7713e-26],\n",
              "        [4.6173e-09, 1.4066e-06, 1.0000e+00]], device='cuda:0')"
            ]
          },
          "metadata": {
            "tags": []
          },
          "execution_count": 30
        }
      ]
    },
    {
      "cell_type": "code",
      "metadata": {
        "id": "4exX7B56V_4E",
        "colab": {
          "base_uri": "https://localhost:8080/",
          "height": 388
        },
        "outputId": "7dc22824-bb3e-4516-a4d4-036628874d62"
      },
      "source": [
        "fig, (ax1, ax2) = plt.subplots(2, figsize=(12, 6), sharex=True)\n",
        "ax1.plot(accuracy_train)\n",
        "ax1.set_ylabel(\"train accuracy\")\n",
        "ax2.plot(accuracy_test)\n",
        "ax2.set_ylabel(\"test accuracy\")\n",
        "ax2.set_xlabel(\"epochs\");\n"
      ],
      "execution_count": null,
      "outputs": [
        {
          "output_type": "display_data",
          "data": {
            "image/png": "[encoded data removed]",
            "text/plain": [
              "<Figure size 864x432 with 2 Axes>"
            ]
          },
          "metadata": {
            "tags": [],
            "needs_background": "light"
          }
        }
      ]
    },
    {
      "cell_type": "code",
      "metadata": {
        "id": "EHOtLl4o7nFd"
      },
      "source": [
        "output=model(torch.tensor([[-1.5065,  0.7888, -1.3402, -1.1838]]))\n",
        "print(output)"
      ],
      "execution_count": null,
      "outputs": []
    }
  ]
}