{
  "nbformat": 4,
  "nbformat_minor": 0,
  "metadata": {
    "colab": {
      "name": "MLP_MNIST.ipynb",
      "private_outputs": true,
      "provenance": [],
      "collapsed_sections": []
    },
    "kernelspec": {
      "name": "python3",
      "display_name": "Python 3"
    },
    "language_info": {
      "name": "python"
    },
    "accelerator": "GPU"
  },
  "cells": [
    {
      "cell_type": "code",
      "metadata": {
        "id": "YW5DdxTaJ1yU"
      },
      "source": [
        "#https://pytorch.org/vision/stable/datasets.html#mnist\n",
        "import torch\n",
        "import torchvision\n",
        "import torchvision.transforms as transforms\n",
        "\n",
        "if torch.cuda.is_available():\n",
        "    device = torch.device('cuda')\n",
        "else:\n",
        "    device = torch.device('cpu')\n",
        "    \n",
        "transform = transforms.ToTensor()\n",
        "trainset = torchvision.datasets.MNIST('/tmp', train=True, download=True, transform=transform)\n",
        "testset = torchvision.datasets.MNIST('/tmp', train=False, download=True, transform=transform)\n"
      ],
      "execution_count": null,
      "outputs": []
    },
    {
      "cell_type": "code",
      "metadata": {
        "id": "zRe7N67SQhbh"
      },
      "source": [
        "import matplotlib.pyplot as plt\n",
        "plt.imshow(trainset.data[2])\n",
        "print(trainset.data[2].shape)\n",
        "print(device)"
      ],
      "execution_count": null,
      "outputs": []
    },
    {
      "cell_type": "code",
      "metadata": {
        "id": "2MhT2vCeQSMx"
      },
      "source": [
        "BATCH_SIZE=4\n",
        "trainloader = torch.utils.data.DataLoader(trainset, batch_size=BATCH_SIZE, shuffle=True, num_workers=2)\n",
        "testloader = torch.utils.data.DataLoader(testset, batch_size=BATCH_SIZE, shuffle=False, num_workers=2)"
      ],
      "execution_count": null,
      "outputs": []
    },
    {
      "cell_type": "code",
      "metadata": {
        "id": "0Ea3kXRaY2Q1"
      },
      "source": [
        "import torch\n",
        "import torch.nn.functional as F\n",
        "import torch.nn as nn\n",
        "from torch.autograd import Variable\n",
        "\n",
        "class Model(nn.Module):\n",
        "    def __init__(self, input_dim):\n",
        "        super(Model, self).__init__()\n",
        "        self.layer1 = nn.Linear(input_dim, 50)\n",
        "        self.layer2 = nn.Linear(50, 50)\n",
        "        self.layer3 = nn.Linear(50, 10)\n",
        "        \n",
        "    def forward(self, x):\n",
        "        x = x.view(BATCH_SIZE, -1)\n",
        "        x = F.relu(self.layer1(x))\n",
        "        x = F.relu(self.layer2(x))\n",
        "        x = F.softmax(self.layer3(x), dim=1)\n",
        "        return x\n"
      ],
      "execution_count": null,
      "outputs": []
    },
    {
      "cell_type": "code",
      "metadata": {
        "id": "vDN29QPmi6Pi"
      },
      "source": [
        "model = Model(28*28).to(device)\n",
        "optimizer = torch.optim.SGD(model.parameters(), lr=0.01, momentum=0.5)\n",
        "loss_function = nn.CrossEntropyLoss()\n"
      ],
      "execution_count": null,
      "outputs": []
    },
    {
      "cell_type": "code",
      "metadata": {
        "id": "JsH7XotwjOtX"
      },
      "source": [
        "EPOCHS  = 100\n",
        "import tqdm\n",
        "for epoch in tqdm.trange(EPOCHS):\n",
        "    for i, data in enumerate(trainloader):\n",
        "      inputs, labels = data\n",
        "      inputs, labels = Variable(inputs).to(device), Variable(labels).to(device)\n",
        "\n",
        "      y_pred = model(inputs)\n",
        "      loss = loss_function(y_pred, labels)\n",
        "      optimizer.zero_grad()\n",
        "      loss.backward()\n",
        "      optimizer.step()\n",
        "      "
      ],
      "execution_count": null,
      "outputs": []
    }
  ]
}