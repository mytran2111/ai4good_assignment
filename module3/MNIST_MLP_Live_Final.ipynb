{
  "nbformat": 4,
  "nbformat_minor": 0,
  "metadata": {
    "colab": {
      "name": "MNIST_MLP_Live_Final.ipynb",
      "provenance": [],
      "collapsed_sections": []
    },
    "kernelspec": {
      "name": "python3",
      "display_name": "Python 3"
    },
    "accelerator": "GPU"
  },
  "cells": [
    {
      "cell_type": "code",
      "metadata": {
        "id": "xomcLqhNinZ5"
      },
      "source": [
        "import time\n",
        "\n",
        "import platform\n",
        "import io\n",
        "\n",
        "import matplotlib.pyplot as plt\n",
        "from matplotlib.pyplot import cm \n",
        "\n",
        "import torch\n",
        "import torch.nn as nn\n",
        "import torch.optim as optim\n",
        "\n",
        "import torch.nn as nn\n",
        "import torch.nn.functional as F"
      ],
      "execution_count": null,
      "outputs": []
    },
    {
      "cell_type": "code",
      "metadata": {
        "id": "RKH4l6dTitTx",
        "colab": {
          "base_uri": "https://localhost:8080/",
          "height": 103
        },
        "outputId": "56ff142e-d589-4cfc-e9f1-0bcd5e04066e"
      },
      "source": [
        "'''\n",
        "What: MLP on MNIST using Pytorch \n",
        "Why: we want a job in AI ! \n",
        "How ... see below. \n",
        "\n",
        "To do's \n",
        "- Download, visualize the data (done)\n",
        "- Appreciate the \".shape\" of the data (done)\n",
        "- Define the dataloader (done)\n",
        "- Build the model, i.e. \"nn.Module\" (done)\n",
        "- Test the model, i.e. validate the forward pass. (done)\n",
        "- build the function \"prediction\" (done)\n",
        "- Define the optimizer, criterion, and maybe other stuff (done)\n",
        "- Train the model (done)\n",
        "\n",
        "- What is an epoch?  (done)\n",
        "- Will plot some metrics using the prediction function (done)\n",
        "- Will list few things for you to test\n",
        "  - Weight Decay\n",
        "  - Try to overfit!   \n",
        "  - Dropout\n",
        "  - Relu \n",
        "  - ... \n",
        "\n",
        "'''"
      ],
      "execution_count": null,
      "outputs": [
        {
          "output_type": "execute_result",
          "data": {
            "application/vnd.google.colaboratory.intrinsic": {
              "type": "string"
            },
            "text/plain": [
              "'\\nWhat: MLP on MNIST using Pytorch \\nWhy: we want a job in AI ! \\nHow ... see below. \\n\\nTo do\\'s \\n- Download, visualize the data (done)\\n- Appreciate the \".shape\" of the data (done)\\n- Define the dataloader (done)\\n- Build the model, i.e. \"nn.Module\" (done)\\n- Test the model, i.e. validate the forward pass. (done)\\n- build the function \"prediction\" (done)\\n- Define the optimizer, criterion, and maybe other stuff (done)\\n- Train the model (done)\\n\\n- What is an epoch?  (done)\\n- Will plot some metrics using the prediction function (done)\\n- Will list few things for you to test\\n  - Weight Decay\\n  - Try to overfit!   \\n  - Dropout\\n  - Relu \\n  - ... \\n\\n'"
            ]
          },
          "metadata": {
            "tags": []
          },
          "execution_count": 22
        }
      ]
    },
    {
      "cell_type": "code",
      "metadata": {
        "id": "Rbux0F5RmmQW"
      },
      "source": [
        "import torch\n",
        "from torchvision.datasets import MNIST\n",
        "import torchvision.transforms as transforms\n",
        "\n",
        "train_dataset = MNIST(root='../data', \n",
        "                      train=True, \n",
        "                      transform=transforms.ToTensor(),  \n",
        "                      download=True)\n",
        "\n",
        "test_dataset = MNIST(root='../data', \n",
        "                     train=False, \n",
        "                     transform=transforms.ToTensor())\n",
        "\n",
        "\n",
        "use_gpu = torch.cuda.is_available()\n"
      ],
      "execution_count": null,
      "outputs": []
    },
    {
      "cell_type": "code",
      "metadata": {
        "id": "yV-wATRjmqmp",
        "colab": {
          "base_uri": "https://localhost:8080/",
          "height": 51
        },
        "outputId": "6871d924-66a6-4b25-b7a7-a642e90c9107"
      },
      "source": [
        "# appreciate the shape of the dataset \n",
        "train_data = list(train_dataset)\n",
        "image, label = train_data[2143]\n",
        "print(image.shape)\n",
        "print(label)\n"
      ],
      "execution_count": null,
      "outputs": [
        {
          "output_type": "stream",
          "text": [
            "torch.Size([1, 28, 28])\n",
            "5\n"
          ],
          "name": "stdout"
        }
      ]
    },
    {
      "cell_type": "code",
      "metadata": {
        "id": "kjaAzcdSm_hb",
        "colab": {
          "base_uri": "https://localhost:8080/",
          "height": 282
        },
        "outputId": "a5d95813-7c6d-4041-d9d7-13cbbec60c2c"
      },
      "source": [
        "# visualize \n",
        "\n",
        "plt.imshow(image.squeeze())\n",
        "plt.show()\n",
        "print(\"The label is {}\".format(label))"
      ],
      "execution_count": null,
      "outputs": [
        {
          "output_type": "display_data",
          "data": {
            "image/png": "[encoded data removed]",
            "text/plain": [
              "<Figure size 432x288 with 1 Axes>"
            ]
          },
          "metadata": {
            "tags": [],
            "needs_background": "light"
          }
        },
        {
          "output_type": "stream",
          "text": [
            "The label is 5\n"
          ],
          "name": "stdout"
        }
      ]
    },
    {
      "cell_type": "code",
      "metadata": {
        "id": "Co6AFC5hnz8_"
      },
      "source": [
        "# DataLoader(dataset, batch_size=1, shuffle=False, sampler=None,\n",
        "#            batch_sampler=None, num_workers=0, collate_fn=None,\n",
        "#            pin_memory=False, drop_last=False, timeout=0,\n",
        "#            worker_init_fn=None)\n",
        "\n",
        "batch_size = 64         # hyper-parameter \n",
        "train_loader = torch.utils.data.DataLoader(\n",
        "                            dataset = train_dataset, \n",
        "                            batch_size = batch_size, \n",
        "                            shuffle = True)\n",
        "\n",
        "test_loader = torch.utils.data.DataLoader(\n",
        "                            dataset = test_dataset, \n",
        "                            batch_size = batch_size, \n",
        "                            shuffle = True)"
      ],
      "execution_count": null,
      "outputs": []
    },
    {
      "cell_type": "code",
      "metadata": {
        "id": "eHL-S69poSTZ",
        "colab": {
          "base_uri": "https://localhost:8080/",
          "height": 51
        },
        "outputId": "4713549e-63ea-4a8a-ad65-0b7d9cebc4b2"
      },
      "source": [
        "# to appreciate the \"shape\" of the batches \n",
        "dd = list(train_loader)\n",
        "images, labels = dd[0]\n",
        "print(images.shape)\n",
        "print(labels.shape)\n"
      ],
      "execution_count": null,
      "outputs": [
        {
          "output_type": "stream",
          "text": [
            "torch.Size([64, 1, 28, 28])\n",
            "torch.Size([64])\n"
          ],
          "name": "stdout"
        }
      ]
    },
    {
      "cell_type": "code",
      "metadata": {
        "id": "d1kUuo_roEkS"
      },
      "source": [
        "# output = L3(L2(L1(input)))\n",
        "\n",
        "# input of our MLP has to be 1 x 784\n",
        "class MLP(nn.Module):\n",
        "  def __init__(self, input_size, hidden_size, num_classes):\n",
        "    super(MLP, self).__init__()\n",
        "\n",
        "    h1, h2 = hidden_size\n",
        "\n",
        "    self.block = nn.Sequential(\n",
        "        nn.Linear(input_size, h1), \n",
        "        nn.Linear(h1, h2),\n",
        "        nn.Linear(h2, num_classes)\n",
        "        )\n",
        "\n",
        "  def forward(self, x):\n",
        "    output = self.block(x)\n",
        "    return output\n"
      ],
      "execution_count": null,
      "outputs": []
    },
    {
      "cell_type": "code",
      "metadata": {
        "id": "oHqTsU92q3nt"
      },
      "source": [
        "input_size = 784\n",
        "hidden_size = [2000, 500]\n",
        "num_classes = 10\n",
        "\n",
        "MLP_model = MLP(input_size, hidden_size, num_classes)"
      ],
      "execution_count": null,
      "outputs": []
    },
    {
      "cell_type": "code",
      "metadata": {
        "id": "O0SZJoQzq_b_"
      },
      "source": [
        "dd = list(test_loader)\n",
        "images, labels = dd[0] # we are selectin the first batch "
      ],
      "execution_count": null,
      "outputs": []
    },
    {
      "cell_type": "code",
      "metadata": {
        "id": "-XfrHjSQwoN2",
        "colab": {
          "base_uri": "https://localhost:8080/",
          "height": 51
        },
        "outputId": "03c6ea10-4ec0-4035-f1e0-9af958274505"
      },
      "source": [
        "# CNN ::: [bs, 1, 28, 28]\n",
        "# MLP ::: [bs, 28*28]\n",
        "images = images.view(-1, 28*28)\n",
        "print(\"Input shape is {}\".format(images.shape))\n",
        "output = MLP_model(images)\n",
        "print(\"Output shape is {}\".format(output.shape))"
      ],
      "execution_count": null,
      "outputs": [
        {
          "output_type": "stream",
          "text": [
            "Input shape is torch.Size([64, 784])\n",
            "Output shape is torch.Size([64, 10])\n"
          ],
          "name": "stdout"
        }
      ]
    },
    {
      "cell_type": "code",
      "metadata": {
        "id": "oc9nYWfnxjvV"
      },
      "source": [
        "# build a function call prediciton\n",
        "# the input : data, model \n",
        "# output : error rate 1/10 -- not trained yet \n",
        "loader = test_loader\n",
        "correct = 0\n",
        "total = 0\n",
        "\n",
        "for i, (images, labels) in enumerate(loader): \n",
        "  images = images.view(-1, 28*28)\n",
        "  outputs = MLP_model(images)\n",
        "  values, predictions = torch.max(outputs, 1)\n",
        "  correct += torch.sum(predictions == labels).item()\n",
        "  total += labels.shape[0]\n",
        "\n",
        "\n",
        "def prediction(loader, model):\n",
        "  '''\n",
        "  inputs: \n",
        "  outputs: \n",
        "  '''\n",
        "  correct = 0\n",
        "  total = 0\n",
        "  losses = 0\n",
        "\n",
        "  for i, (images, labels) in enumerate(loader):\n",
        "    if use_gpu:\n",
        "      # switch tensor type to GPU\n",
        "      images = images.cuda()\n",
        "      labels = labels.cuda()\n",
        "    \n",
        "      # Flatten the images\n",
        "    \n",
        "    images = images.view(-1, 28*28)\n",
        "    \n",
        "    outputs = model(images)\n",
        "    \n",
        "    loss = criterion(outputs, labels)\n",
        "  \n",
        "    _, predictions = torch.max(outputs, 1)\n",
        "  \n",
        "    correct += torch.sum(labels == predictions).item()\n",
        "    total += labels.shape[0]\n",
        "    \n",
        "    losses += loss.data.item()\n",
        "    \n",
        "  return losses/len(list(loader)), 1 - correct/total # we need to normalize loss with respect to the number of batches \n",
        "\n",
        "\n",
        "def L2_weights_norm(model):\n",
        "  '''\n",
        "  L2_norm = sum((all the weights)^2)\n",
        "  '''\n",
        "  weights = []\n",
        "  L2_norm = 0\n",
        "  for name, parameters in model.named_parameters(): \n",
        "    if 'weight' in name: \n",
        "      weights.append(parameters)\n",
        "\n",
        "  for w in weights:\n",
        "    L2_norm += torch.norm(w)**2\n",
        "\n",
        "  return L2_norm\n"
      ],
      "execution_count": null,
      "outputs": []
    },
    {
      "cell_type": "code",
      "metadata": {
        "id": "Mlg4-4Y2lcGb"
      },
      "source": [
        "# name, parameters = list(model.named_parameters())\n",
        "# why??? error?? "
      ],
      "execution_count": null,
      "outputs": []
    },
    {
      "cell_type": "code",
      "metadata": {
        "id": "18mTsoHoltUN"
      },
      "source": [
        ""
      ],
      "execution_count": null,
      "outputs": []
    },
    {
      "cell_type": "code",
      "metadata": {
        "id": "jWZBzOPiznPP"
      },
      "source": [
        "input_size = 784\n",
        "hidden_size = [2000, 500]\n",
        "num_classes = 10\n",
        "\n",
        "MLP_model = MLP(input_size, hidden_size, num_classes)\n",
        "MLP_model_reg = MLP(input_size, hidden_size, num_classes)\n",
        "\n",
        "optimizer = optim.SGD(MLP_model.parameters(), lr=0.01, momentum=0.9)\n",
        "optimizer_reg = optim.SGD(MLP_model_reg.parameters(), lr=0.01, momentum=0.9, weight_decay=0.01)\n",
        "\n",
        "criterion = nn.CrossEntropyLoss()\n",
        "criterion_reg = nn.CrossEntropyLoss()"
      ],
      "execution_count": null,
      "outputs": []
    },
    {
      "cell_type": "code",
      "metadata": {
        "id": "0w54NV_qrLf7",
        "colab": {
          "base_uri": "https://localhost:8080/",
          "height": 34
        },
        "outputId": "6389760f-e2d4-4896-dba6-45080edd03d1"
      },
      "source": [
        "use_gpu"
      ],
      "execution_count": null,
      "outputs": [
        {
          "output_type": "execute_result",
          "data": {
            "text/plain": [
              "True"
            ]
          },
          "metadata": {
            "tags": []
          },
          "execution_count": 35
        }
      ]
    },
    {
      "cell_type": "code",
      "metadata": {
        "id": "-SpQ8NfGT-bc"
      },
      "source": [
        "# L2_Weights = L2_weights_norm(MLP_model)\n",
        "# # L2_Weights.item()\n",
        "# if use_gpu:\n",
        "#   # switch model to GPU\n",
        "#   MLP_model.cuda()\n",
        "#   MLP_model_reg.cuda()\n",
        "#   images = images.cuda()\n",
        "\n",
        "# outputs_reg = MLP_model_reg(images)\n",
        "# # _, predictions = torch.max(outputs_reg, 1)\n",
        "# # correct_reg += torch.sum(labels == predictions).item()\n",
        "# # total_reg += labels.shape[0]\n",
        "\n",
        "# # loss_bs_reg = criterion_reg(outputs_reg, labels)\n",
        "# # loss_bs_reg\n",
        "# # # loss_bs_reg.backward()"
      ],
      "execution_count": null,
      "outputs": []
    },
    {
      "cell_type": "code",
      "metadata": {
        "id": "CfOA-vjbC1y8",
        "colab": {
          "base_uri": "https://localhost:8080/",
          "height": 357
        },
        "outputId": "6a851f45-d10c-4e4a-8fe5-2ee8732f204c"
      },
      "source": [
        "train_losses_reg = []\n",
        "test_losses_reg = []\n",
        "train_error_rates_reg = []\n",
        "test_error_rates_reg = []\n",
        "L2_Norms_reg = []\n",
        "\n",
        "if use_gpu:\n",
        "  # switch model to GPU\n",
        "  MLP_model_reg.cuda()\n",
        "\n",
        "num_epochs = 20\n",
        "\n",
        "for epoch in range(num_epochs): \n",
        "\n",
        "  train_loss_reg = 0 \n",
        "  n_iter = 0 \n",
        "  total_reg = 0\n",
        "  correct_reg = 0\n",
        "\n",
        "  for i, (images, labels) in enumerate(train_loader): \n",
        "    optimizer_reg.zero_grad() \n",
        "\n",
        "    if use_gpu: \n",
        "      images = images.cuda()\n",
        "      labels = labels.cuda()\n",
        "\n",
        "    images = images.view(-1, 28*28)\n",
        "    outputs_reg = MLP_model_reg(images) # images.shape = [64, 784]\n",
        "    \n",
        "    # Computes the train_error_rates  \n",
        "    _, predictions = torch.max(outputs_reg, 1)\n",
        "    correct_reg += torch.sum(labels == predictions).item()\n",
        "    total_reg += labels.shape[0]\n",
        "    \n",
        "    # to compute the loss\n",
        "    loss_bs_reg = criterion_reg(outputs_reg, labels)\n",
        "    loss_bs_reg.backward()\n",
        "    # updates the weights\n",
        "    optimizer_reg.step()\n",
        "    train_loss_reg += loss_bs_reg\n",
        "\n",
        "    n_iter += 1\n",
        "\n",
        "  train_error_rate_reg = 1 - correct_reg/total_reg\n",
        "  test_loss_reg, test_error_rate_reg = prediction(test_loader, MLP_model_reg)\n",
        "  \n",
        "  train_error_rates_reg.append(train_error_rate_reg)\n",
        "  test_error_rates_reg.append(test_error_rate_reg)\n",
        "  train_losses_reg.append(train_loss_reg)\n",
        "  test_losses_reg.append(test_loss_reg)\n",
        "\n",
        "  L2_Norms_reg.append(L2_weights_norm(MLP_model_reg).item())\n",
        "\n",
        "  if epoch%1 == 0:\n",
        "    print('Epoch: {}/{}, Loss: {:.4f}, Error Rate: {:.1f}%'.format(epoch+1, num_epochs, train_loss_reg/n_iter, 100*train_error_rate_reg))\n"
      ],
      "execution_count": null,
      "outputs": [
        {
          "output_type": "stream",
          "text": [
            "Epoch: 1/20, Loss: 0.4571, Error Rate: 12.4%\n",
            "Epoch: 2/20, Loss: 0.3498, Error Rate: 9.6%\n",
            "Epoch: 3/20, Loss: 0.3458, Error Rate: 9.4%\n",
            "Epoch: 4/20, Loss: 0.3446, Error Rate: 9.4%\n",
            "Epoch: 5/20, Loss: 0.3464, Error Rate: 9.4%\n",
            "Epoch: 6/20, Loss: 0.3455, Error Rate: 9.5%\n",
            "Epoch: 7/20, Loss: 0.3446, Error Rate: 9.5%\n",
            "Epoch: 8/20, Loss: 0.3458, Error Rate: 9.5%\n",
            "Epoch: 9/20, Loss: 0.3455, Error Rate: 9.4%\n",
            "Epoch: 10/20, Loss: 0.3467, Error Rate: 9.4%\n",
            "Epoch: 11/20, Loss: 0.3453, Error Rate: 9.4%\n",
            "Epoch: 12/20, Loss: 0.3438, Error Rate: 9.4%\n",
            "Epoch: 13/20, Loss: 0.3446, Error Rate: 9.4%\n",
            "Epoch: 14/20, Loss: 0.3441, Error Rate: 9.3%\n",
            "Epoch: 15/20, Loss: 0.3451, Error Rate: 9.5%\n",
            "Epoch: 16/20, Loss: 0.3452, Error Rate: 9.5%\n",
            "Epoch: 17/20, Loss: 0.3456, Error Rate: 9.4%\n",
            "Epoch: 18/20, Loss: 0.3461, Error Rate: 9.4%\n",
            "Epoch: 19/20, Loss: 0.3448, Error Rate: 9.4%\n",
            "Epoch: 20/20, Loss: 0.3445, Error Rate: 9.5%\n"
          ],
          "name": "stdout"
        }
      ]
    },
    {
      "cell_type": "code",
      "metadata": {
        "id": "WaLisfbWztp5",
        "colab": {
          "base_uri": "https://localhost:8080/",
          "height": 357
        },
        "outputId": "67c71c4b-9e14-4774-b7e0-081168bcb51e"
      },
      "source": [
        "# List for plotting \n",
        "\n",
        "train_losses = []\n",
        "test_losses = []\n",
        "\n",
        "train_error_rates = []\n",
        "test_error_rates = []\n",
        "\n",
        "L2_Norms = []\n",
        "\n",
        "if use_gpu:\n",
        "  # switch model to GPU\n",
        "  MLP_model.cuda()\n",
        "\n",
        "num_epochs = 20\n",
        "\n",
        "for epoch in range(num_epochs): \n",
        "  train_loss = 0 \n",
        "  n_iter = 0 \n",
        "  total = 0\n",
        "  correct = 0\n",
        "\n",
        "  for i, (images, labels) in enumerate(train_loader): \n",
        "    optimizer.zero_grad() \n",
        "\n",
        "    if use_gpu: \n",
        "      images = images.cuda()\n",
        "      labels = labels.cuda()\n",
        "\n",
        "    images = images.view(-1, 28*28)\n",
        "    outputs = MLP_model(images) # images.shape = [64, 784]\n",
        "    \n",
        "    # to compute the train_error_rates  \n",
        "    _, predictions = torch.max(outputs, 1)\n",
        "    correct += torch.sum(labels == predictions).item()\n",
        "    total += labels.shape[0]\n",
        "    \n",
        "    # to compute the loss \n",
        "    loss_bs = criterion(outputs, labels)\n",
        "    loss_bs.backward()\n",
        "\n",
        "    # updates the weights\n",
        "    optimizer.step()\n",
        "    train_loss += loss_bs\n",
        "\n",
        "    n_iter += 1\n",
        "\n",
        "  train_error_rate = 1 - correct/total\n",
        "  test_loss, test_error_rate = prediction(test_loader, MLP_model)\n",
        "\n",
        "  train_error_rates.append(train_error_rate)\n",
        "  test_error_rates.append(test_error_rate)\n",
        "  train_losses.append(train_loss)\n",
        "  test_losses.append(test_loss)\n",
        "\n",
        "  L2_Norms.append(L2_weights_norm(MLP_model).item())\n",
        "\n",
        "  if epoch%1 == 0:\n",
        "    print('Epoch: {}/{}, Loss: {:.4f}, Error Rate: {:.1f}%'.format(epoch+1, num_epochs, train_loss/n_iter, 100*train_error_rate))\n"
      ],
      "execution_count": null,
      "outputs": [
        {
          "output_type": "stream",
          "text": [
            "Epoch: 1/20, Loss: 0.4253, Error Rate: 11.8%\n",
            "Epoch: 2/20, Loss: 0.3061, Error Rate: 8.7%\n",
            "Epoch: 3/20, Loss: 0.2959, Error Rate: 8.3%\n",
            "Epoch: 4/20, Loss: 0.2908, Error Rate: 8.3%\n",
            "Epoch: 5/20, Loss: 0.2836, Error Rate: 7.9%\n",
            "Epoch: 6/20, Loss: 0.2817, Error Rate: 8.0%\n",
            "Epoch: 7/20, Loss: 0.2779, Error Rate: 7.9%\n",
            "Epoch: 8/20, Loss: 0.2773, Error Rate: 7.8%\n",
            "Epoch: 9/20, Loss: 0.2737, Error Rate: 7.6%\n",
            "Epoch: 10/20, Loss: 0.2724, Error Rate: 7.6%\n",
            "Epoch: 11/20, Loss: 0.2728, Error Rate: 7.6%\n",
            "Epoch: 12/20, Loss: 0.2703, Error Rate: 7.6%\n",
            "Epoch: 13/20, Loss: 0.2694, Error Rate: 7.5%\n",
            "Epoch: 14/20, Loss: 0.2695, Error Rate: 7.5%\n",
            "Epoch: 15/20, Loss: 0.2663, Error Rate: 7.6%\n",
            "Epoch: 16/20, Loss: 0.2666, Error Rate: 7.5%\n",
            "Epoch: 17/20, Loss: 0.2656, Error Rate: 7.5%\n",
            "Epoch: 18/20, Loss: 0.2646, Error Rate: 7.5%\n",
            "Epoch: 19/20, Loss: 0.2638, Error Rate: 7.4%\n",
            "Epoch: 20/20, Loss: 0.2639, Error Rate: 7.4%\n"
          ],
          "name": "stdout"
        }
      ]
    },
    {
      "cell_type": "code",
      "metadata": {
        "id": "KRJCcZxApIP9"
      },
      "source": [
        ""
      ],
      "execution_count": null,
      "outputs": []
    },
    {
      "cell_type": "code",
      "metadata": {
        "id": "xfvC1xia1rht",
        "colab": {
          "base_uri": "https://localhost:8080/",
          "height": 35
        },
        "outputId": "4ea6f405-e189-495b-d0eb-fa8ed7af9e13"
      },
      "source": [
        "\n",
        "\n",
        "'''\n",
        "Plot: \n",
        "x axis : epoch \n",
        "y axis : error rate \n",
        "Learning curves (train and test). \n",
        "*** The learning curves are essential to avoir over fitting.\n",
        "'''"
      ],
      "execution_count": null,
      "outputs": [
        {
          "output_type": "execute_result",
          "data": {
            "application/vnd.google.colaboratory.intrinsic": {
              "type": "string"
            },
            "text/plain": [
              "'\\nPlot: \\nx axis : epoch \\ny axis : error rate \\nLearning curves (train and test). \\n*** The learning curves are essential to avoir over fitting.\\n'"
            ]
          },
          "metadata": {
            "tags": []
          },
          "execution_count": 39
        }
      ]
    },
    {
      "cell_type": "code",
      "metadata": {
        "id": "q5suVR-de-zj",
        "colab": {
          "base_uri": "https://localhost:8080/",
          "height": 474
        },
        "outputId": "4ec265e6-0faa-4efc-a3ff-fd2f1be9b6a9"
      },
      "source": [
        "fig, (ax1, ax2, ax3) = plt.subplots(1,3,figsize=(15,6))\n",
        "\n",
        "ax1.plot(train_error_rates,'-ko',markersize=6)\n",
        "ax1.plot(test_error_rates,'-ro',markersize=6)\n",
        "\n",
        "ax1.plot(train_error_rates_reg,'-ko',markersize=6, markerfacecolor=\"white\")\n",
        "ax1.plot(test_error_rates_reg,'-ro',markersize=6, markerfacecolor=\"white\")\n",
        "\n",
        "ax2.plot(train_losses,'-ko',markersize=6)\n",
        "ax2.plot(train_losses,'-ro',markersize=6)\n",
        "\n",
        "ax2.plot(train_losses_reg,'-ko',markersize=6, markerfacecolor=\"white\")\n",
        "ax2.plot(train_losses_reg,'-ro',markersize=6, markerfacecolor=\"white\")\n",
        "\n",
        "ax3.plot(L2_Norms,'-ko',markersize=6)\n",
        "ax3.plot(L2_Norms_reg,'-ko',markersize=6, markerfacecolor=\"white\")\n",
        "\n",
        "ax1.set_ylabel('Error rate',fontsize=14)\n",
        "ax1.set_xlabel('Epoch',fontsize=14)\n",
        "\n",
        "ax2.set_ylabel('Loss',fontsize=14)\n",
        "ax2.set_xlabel('Epoch',fontsize=14)\n",
        "\n",
        "ax3.set_ylabel('L2 norm',fontsize=14)\n",
        "ax3.set_xlabel('Epoch',fontsize=14)\n",
        "               \n",
        "ax1.set_xlim([0,20])\n",
        "ax1.set_ylim([0.05, 0.15])\n",
        "\n",
        "for i, ax in enumerate([ax1, ax2, ax3]):\n",
        "    for item in ([ax.title, ax.xaxis.label, ax.yaxis.label] + ax.get_xticklabels() + ax.get_yticklabels()):\n",
        "        item.set_fontsize(14)        \n",
        "\n",
        "legend1 = ax1.legend(['Train','Test','Train (Reg)', 'Test (Reg)'],loc='upper right',fontsize=14,frameon=False)\n",
        "legend2 = ax2.legend(['Train','Test','Train (Reg)', 'Test (Reg)'],loc='upper right',fontsize=14,frameon=False)\n",
        "legend3 = ax3.legend(['Weight decay','No weight decay'],fontsize=14,frameon=False)\n",
        "\n",
        "plt.suptitle('Effect of the weight decay', fontsize=20, y=1.05)\n",
        "plt.tight_layout()\n",
        "\n",
        "plt.show()\n",
        "\n",
        "fig.savefig('MyFirstPlot.pdf')"
      ],
      "execution_count": null,
      "outputs": [
        {
          "output_type": "display_data",
          "data": {
            "image/png": "[encoded data removed]",
            "text/plain": [
              "<Figure size 1080x432 with 3 Axes>"
            ]
          },
          "metadata": {
            "tags": [],
            "needs_background": "light"
          }
        }
      ]
    }
  ]
}